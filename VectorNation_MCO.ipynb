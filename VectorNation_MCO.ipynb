{
 "cells": [
  {
   "cell_type": "markdown",
   "metadata": {},
   "source": [
    "# Introduction"
   ]
  },
  {
   "cell_type": "markdown",
   "metadata": {},
   "source": [
    "We are **Vector Nation**. Composed of the following:\n",
    "- Ariaga, Marian\n",
    "- Clemente, Francis\n",
    "- De Guzman, Evan\n",
    "- Villaflores, Charlize\n",
    "\n",
    "Taking STINTSY, section S16 under Sir Alvin Alon. "
   ]
  },
  {
   "cell_type": "markdown",
   "metadata": {},
   "source": [
    "This **Major Course Output (MCO)** aims to solve a classification task using the Philippine Statistics Authority or PSA's <span style=\"color:green\">**Family Income and Expenditure dataset**.</span> \n",
    "\n",
    "### The Task\n",
    "\n",
    "In specificity, the group aims to create train and test a machine learning model that can classify employment status based on education level and\n",
    "\n",
    "We will use these three algorithms: \n",
    "- kNN Clustering Algorithm\n",
    "- Linear Regression and Logistic Regression\n",
    "- Neural Networks"
   ]
  },
  {
   "cell_type": "markdown",
   "metadata": {},
   "source": [
    "# Description of the Data Set"
   ]
  },
  {
   "cell_type": "markdown",
   "metadata": {},
   "source": [
    "Once again, the data set that we will use is  <span style=\"color:green\">**Family Income and Expenditure dataset**.</span>. The original data set has an enormous 119 variables to use.\n",
    "The 2012 Family Income Expendture Survey (FIES) was adopted from the 2009 Philippine Classification of Individual Consumption According to Purpose (PCOICOP).  \n",
    "\n",
    "The **2012 FIES** is a sample survey designed to provide income and expenditure data for the country and its seventeen regions. They are basic sources of information on human development for policies and programs of the government. \n",
    "\n",
    "The unit of analysis in the dataset were households, implying the survey referred to characteristics of population residing in private households. "
   ]
  },
  {
   "cell_type": "markdown",
   "metadata": {},
   "source": [
    "### Dataset Features\n",
    "\n",
    "Show below is the table that shows the variables in the first column and the definition of their data in Column 2\n",
    "| Abbreviation | Definition |\n",
    "|:--------:|:--------|\n",
    "W_REGN | Region\n",
    "W_OID | Other ID\n",
    "W_SHSN | Sample household serial number\n",
    "W_HCN | Household control number\n",
    "URB | Urban / Rural\n",
    "RSTR | Stratum\n",
    "PSU | PSU number\n",
    "BWEIGHT | Base weight\n",
    "RFACT | Final weight\n",
    "FSIZE | How many members are there in the family?\n",
    "AGRI_SAL | Did you or any member of your family receive salaries and wages from employment in agricultural sectors, in cash (including allowances, honoraria, tips, bonus, commissions) and in kind (including housing, food, grocery, clothing and medical benefits)? How much?\n",
    "NONAGRI_SAL | Did you or any member of your family receive salaries and wages from employment in non-agricultural sectors, in cash (including allowances, honoraria, tips, bonus,commissions) and in kind (including housing, food, grocery, clothing and medical benefits)? How much?\n",
    "WAGES | Salaries and wages from both agricultural and non-agricultural activities\n",
    "NETSHARE | Did you or any member of your family receive net share of crops, fruits and vegetables produced, fishing or livestock and poultry raised by other households? If yes, how much was sold for cash or consumed by the family?\n",
    "CASH_ABROAD | Did you or any member of your family receive cash, gift or other form of assistance from abroad? How much?\n",
    "CASH_DOMESTIC | Did you or any member of your family receive cash, gift, support, assistance or relief from domestic source? How much?\n",
    "RENTALS_REC | Did you or any member of your family receive in cash or in kind, rentals from non-agricultural lang, buildings, spaces or other properties? How much?\n",
    "INTEREST | Did you or any member of your family receive in cash or in kind, interest from bank deposits and loans extended to other families? How much?\n",
    "PENSION | Did you or any member of your family receive in cash or in kind, pension and retirement, workmen’s compensation, or social security benefits? How much?\n",
    "DIVIDENDS | Did you or any member of your family receive in cash or in kind, any dividend from investments (stock, bonds, etc.)? How much?\n",
    "OTHER_SOURCE | Did you or any member of your family receive in cash or in kind, other sources of income not elsewhere classified such as royalties and income of family members below 10 years old? How much?\n",
    "NET_RECEIPT | Total net receipts from family sustenance activity\n",
    "REGFT | Total received as gifts\n",
    "NET_CFG | Net income from crop farming and gardening\n",
    "NET_LPR | Net income from livestock and poultry raising\n",
    "NET_FISH | Net income from fishing\n",
    "NET_FOR | Net income from forestry and hunting\n",
    "NET_RET | Net income from wholesale and retail\n",
    "NET_MFG | Net income from manufacturing\n",
    "NET_COM | Net income from community, social, recreational, and personal services\n",
    "NET_TRANS | Net income from transportation, storage, and communication services\n",
    "NET_MIN | Net income from mining and quarrying\n",
    "NET_CONS | Net income from construction\n",
    "NET_NEC | Net income from entrepreneurial activities not elsewhere classified\n",
    "EAINC | Total income from entrepreneurial activities. Computation: EAINC = NET_CFG + NET_LPR + NET_FISH + NET_FOR + NET_RET + NET_MFG + NET_COM + NET_TRANS + NET_MIN + NET_CONS + NET_NEC\n",
    "TOINC | Total income. Computation: TOINC = WAGES + NETSHARE + CASH_ABROAD + CASH_DOMESTIC + RENTALS_REC + INTEREST + PENSION + DIVIDENDS + OTHER_SOURCE + NET_RECEIPT + REGFT + EAINC + T_IMPUTED_RENT\n",
    "LOSSES | Losses from entrepreneurial activities.\n",
    "T_BREAD | Total food expenditure for bread and cereals. This category includes rice in all forms, corn, wheat, barley, oats, and other cereal in the form of grain or flour, bread and other bakery products, mixes and dough for preparation of bakery products, pasta products in all forms, cereal preparations, farinaceous-based products prepared with meat, fish, seafood, cheese, vegetables and fruits.\n",
    "T_MEAT | Total food expenditure for meat. This category includes fresh, chilled or frozen meat (meat of cattle, pig, goat, chicken, duck, goose, turkey, rabbit, quail, etc.); fresh, chilled or frozen edible offal like liver, gizzard; dried, salted or smoked; preserved or processed meat, and meat-based preparations (tocino, tapa hotdog, longaniza, chorizo, corned beef, luncheon meat, meatloaf, embotido, sausages, bacon, salami, ham, etc.).\n",
    "T_FISH | Total food expenditure for fish and seafood. This category includes (1) fish, fresh, chilled or frozen; (2) dried, smoked or salted fish; (3) fresh, chilled or frozen seafoods; (4)fish otherwise prepared or preserved, canned or bottled; and (5) seafood-based preparations, canned or bottled.\n",
    "T_MILK | Total food expenditure for milk, cheese, and eggs. This category includes (1) raw milk; (2) pasteurized and sterilized milk; (3) condensed, evaporated or powdered milk; (4) yoghurt, cream, milk-based beverage and other similar milkbased products; (5) cheese and curd; and (6) egg and egg products made wholly from eggs. This category also includes milk, cream and yoghurt containing sugar, cocoa, fruit or flavorings, dairy products not based on milk such as soya milk.\n",
    "T_OIL | Total food expenditure for oil and fats. This category includes (1) butter and butter products (butter oil, etc.); (2) margarine (including “diet” margarine) and other vegetables fats (including peanut butter); (3) edible oils (corn, coconut oil including milk or Gata powder, canola oil, soya bean oil, peanut oil, etc.); and (4) edible animal fats (lard, etc.).\n",
    "T_FRUIT | Total food expenditure for fruits. This category includes (1) fresh, chilled or frozen fruit like pineapple, mango, banana, papaya, dalanghita, etc.; (2) dried fruit or preserved, fruit nuts and edible seeds (peanut, cashew nut, coconut, etc.); and (3) preserved fruit and fruit-based products.\n",
    "T_VEG | Total food expenditure for vegetables. This category includes (1) vegetables cultivated for their leaves or stalks (fresh chilled or frozen); (2) vegetables cultivated for heir fruit (fresh, chilled, frozen or dried); (3) vegetables cultivated for their roots (fresh, chilled or dried); (4) potatoes and tubers vegetables (fresh or dried); (5) vegetables preserved or processed and other vegetable-based products; and(6) products of tuber vegetables including preparations.\n",
    "T_SUGAR | Total food expenditure for sugar, jam, honey, chocolate, and confectionery. This category includes (1) cane or beet sugar, unrefined or refined; (2) jams, marmalades, fruit jellies, natural and artificial honey, maple syrup, molasses, and parts of plants preserved in sugar; (3) chocolate in bars or slabs; (4) chewing gum, sweets, toffees, and other confectionery products; (5) cocoa-based foods and cocoa-based desert preparations; (6) ice cream, sorbet and edible ice; and (7) artificial sugar substitutes.\n",
    "T_FOOD_NEC | Total food expenditure for other food not elsewhere classified. This category includes salt, spices, culinary herbs, sauces, condiments, seasonings, prepared baking powder, baking yeast, dessert preparations, soups, broths, stocks, culinary ingredients, homogenized baby food, and dietary preparations irrespective of the preparation.\n",
    "T_COFFEE | Total food expenditure for coffee, cocoa, and tea. This category includes (1) coffee, whether or not decaffeinated; (2) roasted ground, including instant coffee, tea, and other plant products for infusions (green tea, black tea, pito pito, etc.); (3) cocoa, whether or not sweetened; (4) chocolate-based powder (milo, ovaltine, etc); (5) cocoa-based beverage preparations; (6) coffee and tea substitutes; and (7) extract and essences of coffee and tea (ricoa, cocoa, tablea, cocoa beans, etc.).\n",
    "T_MINERAL | Total food expenditure for mineral water, soft drinks, fruit juices, and vegetable juices. This category includes (1) all drinking water sold in container such as mineral or spring water; (2) soft drinks such as soda, lemonade, and colas; (3) fruit and vegetables juices (pineapple juice, mango juice, orange juice, etc.); (4) syrup and concentrates for the preparation of beverages; and (5) other non-alcoholic beverages such as energy drink like Lipovitan, Red Bull, Joss, Gatorade, cobra, etc.\n",
    "T_ALCOHOL | Total food expenditure for alcoholic beverages. This category includes alcoholic beverages for consumption at home. This subsection includes low or non-alcoholic beverages which are generally alcoholic such as non-alcoholic beer.\n",
    "T_TOBACCO | Total food expenditure for tobacco. This category covers all purchases of tobacco by households, including purchases of tobacco in restaurants, cafes, bars, service stations, etc.\n",
    "T_OTHER_VEG | Total food expenditure for other vegetable-based products. This category includes other vegetable-based products such as betel leaves, betel nuts, mint leaf and lime, etc.\n",
    "T_FOOD_HOME | Total food expenditure for food consumed at home. Computation: T_FOOD_HOME = T_BREAD + T_MEAT + T_FISH + T_MILK + T_OIL + T_FRUIT + T_VEG + T_FOOD_NEC + T_SUGAR + T_COFFEE + T_MINERAL\n",
    "T_FOOD_OUTSIDE | Total food expenditure for food regularly consumed outside of home, i.e., in restaurants, cafes, and canteens.\n",
    "T_FOOD | Total food expenditure. Computation: T_FOOD = T_FOOD_HOME + T_FOOD_OUTSIDE\n",
    "T_CLOTH | Total expenditure for clothing and footwear\n",
    "T_FURNISHING | Total expenditure for furnishings and household equipment or for payments for service fees or routine house maintenance\n",
    "T_HEALTH | Total expenditure for medical products such as drugs and medicines, medical appliances and equipment or payment for any outpatient and inpatient medical services.\n",
    "T_HOUSING_WATER | Total expenditure for Housing, Water, Electricity, Gas and Other Fuels. this category includes actual rentals for housing (T_ACTRENT), imputed rentals for housing (T_IMPUTED_RENT), maintenance and repair of the dwelling, water supply and miscellaneous services relating to the dwelling and electricity, gas and other fuels.\n",
    "T_ACTRENT | Actual house rent. How much is the actual payment for the house/lot?\n",
    "T_RENTVAL | House rent / rental value. Computation: T_RENTVAL = T_ACTRENT + T_IMPUTED_RENT + T_BIMPUTED_RENT\n",
    "T_IMPUTED_RENT | Imputed house rental value\n",
    "T_BIMPUTED_RENT | Imputed housing benefit rental value\n",
    "T_TRANSPORT | Total expenditure for transportation including (1) purchase of vehicles; (2) operation of personal transport equipment such as spare parts and accessories, fuels and lubricants; (3) maintenance and repair; (4) services such as toll fees, driving lessons etc.; (5) amount spent on the regular trips made by the family members to and from the office, school, market, church, etc.; and (6) and, sea or air travel for personal purposes of any member of the family during the reference period whether the travel is within or to/from a destination outside the country.\n",
    "T_COMMUNICATION | Total expenditure for communication. This includes any telephone or telefax equipment, or payment for service fees for postal services and telephone and telefax services.\n",
    "T_RECREATION | Total expenditure for recreation. This includes all expenses incurred in (1) acquiring equipment for reception, recoding, and reproduction of sound and pictures such as television sets, radio, CD, VCD, DVD, microphones, sing along system, etc.; (2) information processing equipment such as personal computers, printers, calculators, etc.; (3) musical instruments and major durables such as pianos, guitars, violins, etc.; (4) games, toys and hobbies such as card games, chess sets, dolls, etc., and (5) purchase books, newspaper and periodicals, and stationery and drawing materials such as writing pads, envelopes, pens, pencils fountain pens, etc.\n",
    "T_EDUCATION | Total expenditure for education. This includes (1) tuition, and matriculation (2) allowances given to family members studyingaway from home; (3) school uniform and footwear; (4) computer rental services; (5) printing services; (6) graduation fees, internship fees, payment of yearbooks and other school contribution.\n",
    "T_MISCELLANEOUS | Total expenditure on miscellaneous goods and services. This includes (1) services for hairdressing salon and barbershop; (2) purchase of articles and products for personal hygiene such as toilet soap, shampoo, toothpaste; and (3) purchase of beauty products such as lipstick, make up, etc., during the past month.\n",
    "T_OTHER_EXPENDITURE | Total other expenditure. This includes (1) premiums for insurance; (2) interest payment on loans for living expenses; (3) losses due to fire and theft; (4) legal fees and membership fees to legal associations and/or professional organizations, etc., and (5) amount deducted from salary as payment for PHILHEALTH, GSIS or SSS insurance, PAG-IBIG membership, etc.\n",
    "T_OTHER_DISBURSEMENT | Total other disbursements. This refers to non-family expenditures, which may give an indication of savings on the part of the family. These include purchase or amortization of real property, payments of cash loan (principal), installments of appliances bought before 2012, installments for personal transport bought before 2012, loans granted to persons outside the household, amount deposited in banks or investments and major repair or construction of a house.\n",
    "T_NFOOD | Total non-food expenditure\n",
    "T_TOTEX | Total expenditure. Computation: T_TOTEX = T_FOOD+T_NFOOD\n",
    "T_TOTDIS | Total disbursements. Computation: T_TOTDIS = T_TOTEX + T_OTHER_DISBURSEMENT\n",
    "T_OTHREC | Total other receipts. These are non-income receipts comprising of (1) value at cost of real and personal property sold; (2) loans from other households, business firms and government institutions; (3) payments for loans granted to others; (4) and withdrawals from savings or business equity. Profits from sale of stocks and bonds, back pay and proceeds from insurance, net winnings from gambling, sweepstakes and lotteries and inheritance are also included as other receipts.\n",
    "T_TOREC | Total receipts. Computation: T_TOREC = T_OTHREC + TOINC\n",
    "SEX | Sex of the head of the family\n",
    "AGE | Age of the head of the family as of date of interview\n",
    "MS | Marital status of the head of the family\n",
    "HGC | Highest grade completed of the head of the family\n",
    "JOB | Did the head of the family have a job or business during the past six months?\n",
    "OCCUP | Primary occupation of the head of the family during the past six months\n",
    "KB | Kind of business / industry of the head of the family during the past six months\n",
    "CW | Class of worker of the head of the family during the past six months\n",
    "HHTYPE | Type of household\n",
    "MEMBERS | Number of family members\n",
    "AGELESS5 | Number of family members below 5 years old\n",
    "AGE5_17 | Number of family members between 5 to 17 years old\n",
    "EMPLOYED_PAY | Number of family members employed for pay during the past six months\n",
    "EMPLOYED_PROF | Number of family members employed for profit during the past six months\n",
    "SPOUSE_EMP | Did the spouse of the head of the family have a job or business during the past six months?\n",
    "BLDG_TYPE | Type of building of the house\n",
    "ROOF Type | Type of roof of the house\n",
    "WALLS Type | Type of walls of the house\n",
    "TENURE | Tenure status of the housing unit and lot occupied by the family\n",
    "HSE_ALTERTN | Where there any alterations or additions to the house or other major renovations done in the housing unit during the past six months?\n",
    "TOILET | Kind of toilet facilities used by the family in the house\n",
    "ELECTRIC | Is there any electricity in the building/house?\n",
    "WATER Main | source of water supply of the family\n",
    "DISTANCE | Distance of the house from the water source\n",
    "RADIO_QTY | Number of radios\n",
    "TV_QTY | Number of TVs\n",
    "CD_QTY | Number of CD / VCD / DVD\n",
    "STEREO_QTY | Number of component / stereo set\n",
    "REF_QTY | Number of refrigerator / freezers\n",
    "WASH_QTY | Number of washing machines\n",
    "AIRCON_QTY | Number of air conditioners\n",
    "CAR_QTY | Number of cars, jeeps, vans\n",
    "LANDLINE_QTY | Number of landline / wireless telephones\n",
    "CELLPHONE_QTY | Number of cellular phones\n",
    "PC_QTY | Number of personal computers\n",
    "OVEN_QTY | Number of stoves with oven / gas range\n",
    "MOTOR_BANCA_QTY | Number of motorized bangka\n",
    "MOTORCYCLE_QTY | Number of motorcycle / tricycles\n",
    "POP_ADJ | Population adjustment\n",
    "PCINC | Per capita income\n",
    "NATPC | National per capita income decile\n",
    "NATDC | National income decile\n",
    "REGDC | Regional income decile\n",
    "REGPC | Regional per capita income decile"
   ]
  },
  {
   "cell_type": "markdown",
   "metadata": {},
   "source": [
    "### Data Collection Process\n",
    "\n",
    "The PSA has stated that the data collection has two cycles, one starting on July of 2012 and ending on the end of the month. The next cycle started on January of 2013 and ended by end of month. The data was collected face to face. \n",
    "\n",
    "Participants were given questionnaires. The questionnaire collects information on family income, source of income, family expenditure and other related and relevant information regarding family income and expenditure levels in the Philippines."
   ]
  },
  {
   "cell_type": "markdown",
   "metadata": {},
   "source": [
    "# List of Requirements"
   ]
  },
  {
   "cell_type": "markdown",
   "metadata": {},
   "source": [
    "<span style=\"color:red\">**#TODO**</span> Update accordingly depending on what we use in the entirety of the notebook."
   ]
  },
  {
   "cell_type": "markdown",
   "metadata": {},
   "source": [
    "# Data Cleaning and Pre-Processing"
   ]
  },
  {
   "cell_type": "markdown",
   "metadata": {},
   "source": [
    "Loading in Prerequisites"
   ]
  },
  {
   "cell_type": "code",
   "execution_count": 1,
   "metadata": {},
   "outputs": [
    {
     "ename": "KeyboardInterrupt",
     "evalue": "",
     "output_type": "error",
     "traceback": [
      "\u001b[1;31m---------------------------------------------------------------------------\u001b[0m",
      "\u001b[1;31mKeyboardInterrupt\u001b[0m                         Traceback (most recent call last)",
      "Cell \u001b[1;32mIn[1], line 3\u001b[0m\n\u001b[0;32m      1\u001b[0m \u001b[38;5;28;01mimport\u001b[39;00m \u001b[38;5;21;01mpandas\u001b[39;00m \u001b[38;5;28;01mas\u001b[39;00m \u001b[38;5;21;01mpd\u001b[39;00m\n\u001b[0;32m      2\u001b[0m \u001b[38;5;28;01mimport\u001b[39;00m \u001b[38;5;21;01mmatplotlib\u001b[39;00m\u001b[38;5;21;01m.\u001b[39;00m\u001b[38;5;21;01mpyplot\u001b[39;00m \u001b[38;5;28;01mas\u001b[39;00m \u001b[38;5;21;01mplt\u001b[39;00m\n\u001b[1;32m----> 3\u001b[0m \u001b[38;5;28;01mimport\u001b[39;00m \u001b[38;5;21;01mseaborn\u001b[39;00m \u001b[38;5;28;01mas\u001b[39;00m \u001b[38;5;21;01msns\u001b[39;00m\n\u001b[0;32m      4\u001b[0m \u001b[38;5;28;01mimport\u001b[39;00m \u001b[38;5;21;01mnumpy\u001b[39;00m \u001b[38;5;28;01mas\u001b[39;00m \u001b[38;5;21;01mnp\u001b[39;00m\n\u001b[0;32m      5\u001b[0m \u001b[38;5;28;01mfrom\u001b[39;00m \u001b[38;5;21;01msklearn\u001b[39;00m\u001b[38;5;21;01m.\u001b[39;00m\u001b[38;5;21;01mpreprocessing\u001b[39;00m \u001b[38;5;28;01mimport\u001b[39;00m StandardScaler\n",
      "File \u001b[1;32mc:\\Users\\Evan\\AppData\\Local\\Programs\\Python\\Python312\\Lib\\site-packages\\seaborn\\__init__.py:5\u001b[0m\n\u001b[0;32m      3\u001b[0m \u001b[38;5;28;01mfrom\u001b[39;00m \u001b[38;5;21;01m.\u001b[39;00m\u001b[38;5;21;01mutils\u001b[39;00m \u001b[38;5;28;01mimport\u001b[39;00m \u001b[38;5;241m*\u001b[39m  \u001b[38;5;66;03m# noqa: F401,F403\u001b[39;00m\n\u001b[0;32m      4\u001b[0m \u001b[38;5;28;01mfrom\u001b[39;00m \u001b[38;5;21;01m.\u001b[39;00m\u001b[38;5;21;01mpalettes\u001b[39;00m \u001b[38;5;28;01mimport\u001b[39;00m \u001b[38;5;241m*\u001b[39m  \u001b[38;5;66;03m# noqa: F401,F403\u001b[39;00m\n\u001b[1;32m----> 5\u001b[0m \u001b[38;5;28;01mfrom\u001b[39;00m \u001b[38;5;21;01m.\u001b[39;00m\u001b[38;5;21;01mrelational\u001b[39;00m \u001b[38;5;28;01mimport\u001b[39;00m \u001b[38;5;241m*\u001b[39m  \u001b[38;5;66;03m# noqa: F401,F403\u001b[39;00m\n\u001b[0;32m      6\u001b[0m \u001b[38;5;28;01mfrom\u001b[39;00m \u001b[38;5;21;01m.\u001b[39;00m\u001b[38;5;21;01mregression\u001b[39;00m \u001b[38;5;28;01mimport\u001b[39;00m \u001b[38;5;241m*\u001b[39m  \u001b[38;5;66;03m# noqa: F401,F403\u001b[39;00m\n\u001b[0;32m      7\u001b[0m \u001b[38;5;28;01mfrom\u001b[39;00m \u001b[38;5;21;01m.\u001b[39;00m\u001b[38;5;21;01mcategorical\u001b[39;00m \u001b[38;5;28;01mimport\u001b[39;00m \u001b[38;5;241m*\u001b[39m  \u001b[38;5;66;03m# noqa: F401,F403\u001b[39;00m\n",
      "File \u001b[1;32mc:\\Users\\Evan\\AppData\\Local\\Programs\\Python\\Python312\\Lib\\site-packages\\seaborn\\relational.py:21\u001b[0m\n\u001b[0;32m     13\u001b[0m \u001b[38;5;28;01mfrom\u001b[39;00m \u001b[38;5;21;01m.\u001b[39;00m\u001b[38;5;21;01mutils\u001b[39;00m \u001b[38;5;28;01mimport\u001b[39;00m (\n\u001b[0;32m     14\u001b[0m     adjust_legend_subtitles,\n\u001b[0;32m     15\u001b[0m     _default_color,\n\u001b[1;32m   (...)\u001b[0m\n\u001b[0;32m     18\u001b[0m     _scatter_legend_artist,\n\u001b[0;32m     19\u001b[0m )\n\u001b[0;32m     20\u001b[0m \u001b[38;5;28;01mfrom\u001b[39;00m \u001b[38;5;21;01m.\u001b[39;00m\u001b[38;5;21;01m_compat\u001b[39;00m \u001b[38;5;28;01mimport\u001b[39;00m groupby_apply_include_groups\n\u001b[1;32m---> 21\u001b[0m \u001b[38;5;28;01mfrom\u001b[39;00m \u001b[38;5;21;01m.\u001b[39;00m\u001b[38;5;21;01m_statistics\u001b[39;00m \u001b[38;5;28;01mimport\u001b[39;00m EstimateAggregator, WeightedAggregator\n\u001b[0;32m     22\u001b[0m \u001b[38;5;28;01mfrom\u001b[39;00m \u001b[38;5;21;01m.\u001b[39;00m\u001b[38;5;21;01maxisgrid\u001b[39;00m \u001b[38;5;28;01mimport\u001b[39;00m FacetGrid, _facet_docs\n\u001b[0;32m     23\u001b[0m \u001b[38;5;28;01mfrom\u001b[39;00m \u001b[38;5;21;01m.\u001b[39;00m\u001b[38;5;21;01m_docstrings\u001b[39;00m \u001b[38;5;28;01mimport\u001b[39;00m DocstringComponents, _core_docs\n",
      "File \u001b[1;32mc:\\Users\\Evan\\AppData\\Local\\Programs\\Python\\Python312\\Lib\\site-packages\\seaborn\\_statistics.py:32\u001b[0m\n\u001b[0;32m     30\u001b[0m \u001b[38;5;28;01mimport\u001b[39;00m \u001b[38;5;21;01mpandas\u001b[39;00m \u001b[38;5;28;01mas\u001b[39;00m \u001b[38;5;21;01mpd\u001b[39;00m\n\u001b[0;32m     31\u001b[0m \u001b[38;5;28;01mtry\u001b[39;00m:\n\u001b[1;32m---> 32\u001b[0m     \u001b[38;5;28;01mfrom\u001b[39;00m \u001b[38;5;21;01mscipy\u001b[39;00m\u001b[38;5;21;01m.\u001b[39;00m\u001b[38;5;21;01mstats\u001b[39;00m \u001b[38;5;28;01mimport\u001b[39;00m gaussian_kde\n\u001b[0;32m     33\u001b[0m     _no_scipy \u001b[38;5;241m=\u001b[39m \u001b[38;5;28;01mFalse\u001b[39;00m\n\u001b[0;32m     34\u001b[0m \u001b[38;5;28;01mexcept\u001b[39;00m \u001b[38;5;167;01mImportError\u001b[39;00m:\n",
      "File \u001b[1;32mc:\\Users\\Evan\\AppData\\Local\\Programs\\Python\\Python312\\Lib\\site-packages\\scipy\\stats\\__init__.py:606\u001b[0m\n\u001b[0;32m      1\u001b[0m \u001b[38;5;124;03m\"\"\"\u001b[39;00m\n\u001b[0;32m      2\u001b[0m \u001b[38;5;124;03m.. _statsrefmanual:\u001b[39;00m\n\u001b[0;32m      3\u001b[0m \n\u001b[1;32m   (...)\u001b[0m\n\u001b[0;32m    601\u001b[0m \n\u001b[0;32m    602\u001b[0m \u001b[38;5;124;03m\"\"\"\u001b[39;00m  \u001b[38;5;66;03m# noqa: E501\u001b[39;00m\n\u001b[0;32m    604\u001b[0m \u001b[38;5;28;01mfrom\u001b[39;00m \u001b[38;5;21;01m.\u001b[39;00m\u001b[38;5;21;01m_warnings_errors\u001b[39;00m \u001b[38;5;28;01mimport\u001b[39;00m (ConstantInputWarning, NearConstantInputWarning,\n\u001b[0;32m    605\u001b[0m                                DegenerateDataWarning, FitError)\n\u001b[1;32m--> 606\u001b[0m \u001b[38;5;28;01mfrom\u001b[39;00m \u001b[38;5;21;01m.\u001b[39;00m\u001b[38;5;21;01m_stats_py\u001b[39;00m \u001b[38;5;28;01mimport\u001b[39;00m \u001b[38;5;241m*\u001b[39m\n\u001b[0;32m    607\u001b[0m \u001b[38;5;28;01mfrom\u001b[39;00m \u001b[38;5;21;01m.\u001b[39;00m\u001b[38;5;21;01m_variation\u001b[39;00m \u001b[38;5;28;01mimport\u001b[39;00m variation\n\u001b[0;32m    608\u001b[0m \u001b[38;5;28;01mfrom\u001b[39;00m \u001b[38;5;21;01m.\u001b[39;00m\u001b[38;5;21;01mdistributions\u001b[39;00m \u001b[38;5;28;01mimport\u001b[39;00m \u001b[38;5;241m*\u001b[39m\n",
      "File \u001b[1;32mc:\\Users\\Evan\\AppData\\Local\\Programs\\Python\\Python312\\Lib\\site-packages\\scipy\\stats\\_stats_py.py:49\u001b[0m\n\u001b[0;32m     47\u001b[0m \u001b[38;5;28;01mimport\u001b[39;00m \u001b[38;5;21;01mscipy\u001b[39;00m\u001b[38;5;21;01m.\u001b[39;00m\u001b[38;5;21;01mspecial\u001b[39;00m \u001b[38;5;28;01mas\u001b[39;00m \u001b[38;5;21;01mspecial\u001b[39;00m\n\u001b[0;32m     48\u001b[0m \u001b[38;5;28;01mfrom\u001b[39;00m \u001b[38;5;21;01mscipy\u001b[39;00m \u001b[38;5;28;01mimport\u001b[39;00m linalg\n\u001b[1;32m---> 49\u001b[0m \u001b[38;5;28;01mfrom\u001b[39;00m \u001b[38;5;21;01m.\u001b[39;00m \u001b[38;5;28;01mimport\u001b[39;00m distributions\n\u001b[0;32m     50\u001b[0m \u001b[38;5;28;01mfrom\u001b[39;00m \u001b[38;5;21;01m.\u001b[39;00m \u001b[38;5;28;01mimport\u001b[39;00m _mstats_basic \u001b[38;5;28;01mas\u001b[39;00m mstats_basic\n\u001b[0;32m     51\u001b[0m \u001b[38;5;28;01mfrom\u001b[39;00m \u001b[38;5;21;01m.\u001b[39;00m\u001b[38;5;21;01m_stats_mstats_common\u001b[39;00m \u001b[38;5;28;01mimport\u001b[39;00m (_find_repeats, linregress, theilslopes,\n\u001b[0;32m     52\u001b[0m                                    siegelslopes)\n",
      "File \u001b[1;32mc:\\Users\\Evan\\AppData\\Local\\Programs\\Python\\Python312\\Lib\\site-packages\\scipy\\stats\\distributions.py:10\u001b[0m\n\u001b[0;32m      1\u001b[0m \u001b[38;5;66;03m#\u001b[39;00m\n\u001b[0;32m      2\u001b[0m \u001b[38;5;66;03m# Author:  Travis Oliphant  2002-2011 with contributions from\u001b[39;00m\n\u001b[0;32m      3\u001b[0m \u001b[38;5;66;03m#          SciPy Developers 2004-2011\u001b[39;00m\n\u001b[1;32m   (...)\u001b[0m\n\u001b[0;32m      6\u001b[0m \u001b[38;5;66;03m#       instead of `git blame -Lxxx,+x`.\u001b[39;00m\n\u001b[0;32m      7\u001b[0m \u001b[38;5;66;03m#\u001b[39;00m\n\u001b[0;32m      8\u001b[0m \u001b[38;5;28;01mfrom\u001b[39;00m \u001b[38;5;21;01m.\u001b[39;00m\u001b[38;5;21;01m_distn_infrastructure\u001b[39;00m \u001b[38;5;28;01mimport\u001b[39;00m (rv_discrete, rv_continuous, rv_frozen)  \u001b[38;5;66;03m# noqa: F401\u001b[39;00m\n\u001b[1;32m---> 10\u001b[0m \u001b[38;5;28;01mfrom\u001b[39;00m \u001b[38;5;21;01m.\u001b[39;00m \u001b[38;5;28;01mimport\u001b[39;00m _continuous_distns\n\u001b[0;32m     11\u001b[0m \u001b[38;5;28;01mfrom\u001b[39;00m \u001b[38;5;21;01m.\u001b[39;00m \u001b[38;5;28;01mimport\u001b[39;00m _discrete_distns\n\u001b[0;32m     13\u001b[0m \u001b[38;5;28;01mfrom\u001b[39;00m \u001b[38;5;21;01m.\u001b[39;00m\u001b[38;5;21;01m_continuous_distns\u001b[39;00m \u001b[38;5;28;01mimport\u001b[39;00m \u001b[38;5;241m*\u001b[39m  \u001b[38;5;66;03m# noqa: F403\u001b[39;00m\n",
      "File \u001b[1;32mc:\\Users\\Evan\\AppData\\Local\\Programs\\Python\\Python312\\Lib\\site-packages\\scipy\\stats\\_continuous_distns.py:33\u001b[0m\n\u001b[0;32m     30\u001b[0m \u001b[38;5;28;01mfrom\u001b[39;00m \u001b[38;5;21;01m.\u001b[39;00m\u001b[38;5;21;01m_constants\u001b[39;00m \u001b[38;5;28;01mimport\u001b[39;00m (_XMIN, _LOGXMIN, _EULER, _ZETA3, _SQRT_PI,\n\u001b[0;32m     31\u001b[0m                          _SQRT_2_OVER_PI, _LOG_SQRT_2_OVER_PI)\n\u001b[0;32m     32\u001b[0m \u001b[38;5;28;01mfrom\u001b[39;00m \u001b[38;5;21;01m.\u001b[39;00m\u001b[38;5;21;01m_censored_data\u001b[39;00m \u001b[38;5;28;01mimport\u001b[39;00m CensoredData\n\u001b[1;32m---> 33\u001b[0m \u001b[38;5;28;01mimport\u001b[39;00m \u001b[38;5;21;01mscipy\u001b[39;00m\u001b[38;5;21;01m.\u001b[39;00m\u001b[38;5;21;01mstats\u001b[39;00m\u001b[38;5;21;01m.\u001b[39;00m\u001b[38;5;21;01m_boost\u001b[39;00m \u001b[38;5;28;01mas\u001b[39;00m \u001b[38;5;21;01m_boost\u001b[39;00m\n\u001b[0;32m     34\u001b[0m \u001b[38;5;28;01mfrom\u001b[39;00m \u001b[38;5;21;01mscipy\u001b[39;00m\u001b[38;5;21;01m.\u001b[39;00m\u001b[38;5;21;01moptimize\u001b[39;00m \u001b[38;5;28;01mimport\u001b[39;00m root_scalar\n\u001b[0;32m     35\u001b[0m \u001b[38;5;28;01mfrom\u001b[39;00m \u001b[38;5;21;01mscipy\u001b[39;00m\u001b[38;5;21;01m.\u001b[39;00m\u001b[38;5;21;01mstats\u001b[39;00m\u001b[38;5;21;01m.\u001b[39;00m\u001b[38;5;21;01m_warnings_errors\u001b[39;00m \u001b[38;5;28;01mimport\u001b[39;00m FitError\n",
      "File \u001b[1;32mc:\\Users\\Evan\\AppData\\Local\\Programs\\Python\\Python312\\Lib\\site-packages\\scipy\\stats\\_boost\\__init__.py:25\u001b[0m\n\u001b[0;32m     13\u001b[0m \u001b[38;5;28;01mfrom\u001b[39;00m \u001b[38;5;21;01mscipy\u001b[39;00m\u001b[38;5;21;01m.\u001b[39;00m\u001b[38;5;21;01mstats\u001b[39;00m\u001b[38;5;21;01m.\u001b[39;00m\u001b[38;5;21;01m_boost\u001b[39;00m\u001b[38;5;21;01m.\u001b[39;00m\u001b[38;5;21;01mnbinom_ufunc\u001b[39;00m \u001b[38;5;28;01mimport\u001b[39;00m (\n\u001b[0;32m     14\u001b[0m     _nbinom_pdf, _nbinom_cdf, _nbinom_sf, _nbinom_ppf,\n\u001b[0;32m     15\u001b[0m     _nbinom_isf, _nbinom_mean, _nbinom_variance,\n\u001b[0;32m     16\u001b[0m     _nbinom_skewness, _nbinom_kurtosis_excess,\n\u001b[0;32m     17\u001b[0m )\n\u001b[0;32m     19\u001b[0m \u001b[38;5;28;01mfrom\u001b[39;00m \u001b[38;5;21;01mscipy\u001b[39;00m\u001b[38;5;21;01m.\u001b[39;00m\u001b[38;5;21;01mstats\u001b[39;00m\u001b[38;5;21;01m.\u001b[39;00m\u001b[38;5;21;01m_boost\u001b[39;00m\u001b[38;5;21;01m.\u001b[39;00m\u001b[38;5;21;01mhypergeom_ufunc\u001b[39;00m \u001b[38;5;28;01mimport\u001b[39;00m (\n\u001b[0;32m     20\u001b[0m     _hypergeom_pdf, _hypergeom_cdf, _hypergeom_sf, _hypergeom_ppf,\n\u001b[0;32m     21\u001b[0m     _hypergeom_isf, _hypergeom_mean, _hypergeom_variance,\n\u001b[0;32m     22\u001b[0m     _hypergeom_skewness, _hypergeom_kurtosis_excess,\n\u001b[0;32m     23\u001b[0m )\n\u001b[1;32m---> 25\u001b[0m \u001b[38;5;28;01mfrom\u001b[39;00m \u001b[38;5;21;01mscipy\u001b[39;00m\u001b[38;5;21;01m.\u001b[39;00m\u001b[38;5;21;01mstats\u001b[39;00m\u001b[38;5;21;01m.\u001b[39;00m\u001b[38;5;21;01m_boost\u001b[39;00m\u001b[38;5;21;01m.\u001b[39;00m\u001b[38;5;21;01mncf_ufunc\u001b[39;00m \u001b[38;5;28;01mimport\u001b[39;00m (\n\u001b[0;32m     26\u001b[0m     _ncf_pdf, _ncf_cdf, _ncf_sf, _ncf_ppf,\n\u001b[0;32m     27\u001b[0m     _ncf_isf, _ncf_mean, _ncf_variance,\n\u001b[0;32m     28\u001b[0m     _ncf_skewness, _ncf_kurtosis_excess,\n\u001b[0;32m     29\u001b[0m )\n\u001b[0;32m     31\u001b[0m \u001b[38;5;28;01mfrom\u001b[39;00m \u001b[38;5;21;01mscipy\u001b[39;00m\u001b[38;5;21;01m.\u001b[39;00m\u001b[38;5;21;01mstats\u001b[39;00m\u001b[38;5;21;01m.\u001b[39;00m\u001b[38;5;21;01m_boost\u001b[39;00m\u001b[38;5;21;01m.\u001b[39;00m\u001b[38;5;21;01mncx2_ufunc\u001b[39;00m \u001b[38;5;28;01mimport\u001b[39;00m (\n\u001b[0;32m     32\u001b[0m     _ncx2_pdf, _ncx2_cdf, _ncx2_sf, _ncx2_ppf,\n\u001b[0;32m     33\u001b[0m     _ncx2_isf, _ncx2_mean, _ncx2_variance,\n\u001b[0;32m     34\u001b[0m     _ncx2_skewness, _ncx2_kurtosis_excess,\n\u001b[0;32m     35\u001b[0m )\n\u001b[0;32m     37\u001b[0m \u001b[38;5;28;01mfrom\u001b[39;00m \u001b[38;5;21;01mscipy\u001b[39;00m\u001b[38;5;21;01m.\u001b[39;00m\u001b[38;5;21;01mstats\u001b[39;00m\u001b[38;5;21;01m.\u001b[39;00m\u001b[38;5;21;01m_boost\u001b[39;00m\u001b[38;5;21;01m.\u001b[39;00m\u001b[38;5;21;01mnct_ufunc\u001b[39;00m \u001b[38;5;28;01mimport\u001b[39;00m (\n\u001b[0;32m     38\u001b[0m     _nct_pdf, _nct_cdf, _nct_sf, _nct_ppf,\n\u001b[0;32m     39\u001b[0m     _nct_isf, _nct_mean, _nct_variance,\n\u001b[0;32m     40\u001b[0m     _nct_skewness, _nct_kurtosis_excess,\n\u001b[0;32m     41\u001b[0m )\n",
      "File \u001b[1;32m<frozen importlib._bootstrap>:645\u001b[0m, in \u001b[0;36mparent\u001b[1;34m(self)\u001b[0m\n",
      "\u001b[1;31mKeyboardInterrupt\u001b[0m: "
     ]
    }
   ],
   "source": [
    "import pandas as pd\n",
    "import matplotlib.pyplot as plt\n",
    "import seaborn as sns\n",
    "import numpy as np\n",
    "from sklearn.preprocessing import StandardScaler\n",
    "from sklearn.linear_model import LogisticRegression\n",
    "from sklearn.model_selection import train_test_split\n",
    "from sklearn.metrics import mean_absolute_error, mean_squared_error, r2_score\n"
   ]
  },
  {
   "cell_type": "markdown",
   "metadata": {},
   "source": [
    "Loading in the csv dataset and splitting into the important features for this classifcaiton problem.\n",
    "\n"
   ]
  },
  {
   "cell_type": "code",
   "execution_count": null,
   "metadata": {},
   "outputs": [
    {
     "ename": "NameError",
     "evalue": "name 'pd' is not defined",
     "output_type": "error",
     "traceback": [
      "\u001b[1;31m---------------------------------------------------------------------------\u001b[0m",
      "\u001b[1;31mNameError\u001b[0m                                 Traceback (most recent call last)",
      "Cell \u001b[1;32mIn[1], line 1\u001b[0m\n\u001b[1;32m----> 1\u001b[0m df \u001b[38;5;241m=\u001b[39m \u001b[43mpd\u001b[49m\u001b[38;5;241m.\u001b[39mread_csv(\u001b[38;5;124m\"\u001b[39m\u001b[38;5;124mFIES PUF 2012 Vol.1.CSV\u001b[39m\u001b[38;5;124m\"\u001b[39m)\n\u001b[0;32m      3\u001b[0m \u001b[38;5;28mprint\u001b[39m(df[[\u001b[38;5;124m\"\u001b[39m\u001b[38;5;124mJOB\u001b[39m\u001b[38;5;124m\"\u001b[39m]])\n",
      "\u001b[1;31mNameError\u001b[0m: name 'pd' is not defined"
     ]
    }
   ],
   "source": [
    "df = pd.read_csv(\"FIES PUF 2012 Vol.1.CSV\")\n",
    "\n",
    "print(df[[\"JOB\"]])"
   ]
  },
  {
   "cell_type": "markdown",
   "metadata": {},
   "source": [
    "Just to confirm, we can see"
   ]
  },
  {
   "cell_type": "code",
   "execution_count": null,
   "metadata": {},
   "outputs": [
    {
     "name": "stdout",
     "output_type": "stream",
     "text": [
      "Total length of a dataset is:  40171\n"
     ]
    }
   ],
   "source": [
    "class_df = df[[\"CW\", \"PCINC\", \"JOB\", \"OCCUP\", \"HGC\"]] \n",
    "# add highest grade, remove TENURE, WAGES\n",
    "\n",
    "print(\"Total length of a dataset is: \", len(df))"
   ]
  },
  {
   "cell_type": "code",
   "execution_count": null,
   "metadata": {},
   "outputs": [
    {
     "name": "stdout",
     "output_type": "stream",
     "text": [
      "CW        object\n",
      "PCINC    float64\n",
      "JOB        int64\n",
      "OCCUP     object\n",
      "HGC        int64\n",
      "dtype: object\n"
     ]
    }
   ],
   "source": [
    "print(class_df.dtypes)"
   ]
  },
  {
   "cell_type": "code",
   "execution_count": null,
   "metadata": {},
   "outputs": [
    {
     "data": {
      "text/html": [
       "<div>\n",
       "<style scoped>\n",
       "    .dataframe tbody tr th:only-of-type {\n",
       "        vertical-align: middle;\n",
       "    }\n",
       "\n",
       "    .dataframe tbody tr th {\n",
       "        vertical-align: top;\n",
       "    }\n",
       "\n",
       "    .dataframe thead th {\n",
       "        text-align: right;\n",
       "    }\n",
       "</style>\n",
       "<table border=\"1\" class=\"dataframe\">\n",
       "  <thead>\n",
       "    <tr style=\"text-align: right;\">\n",
       "      <th></th>\n",
       "      <th>CW</th>\n",
       "      <th>PCINC</th>\n",
       "      <th>JOB</th>\n",
       "      <th>OCCUP</th>\n",
       "      <th>HGC</th>\n",
       "    </tr>\n",
       "  </thead>\n",
       "  <tbody>\n",
       "    <tr>\n",
       "      <th>0</th>\n",
       "      <td>&lt;NA&gt;</td>\n",
       "      <td>108417.00</td>\n",
       "      <td>2</td>\n",
       "      <td>&lt;NA&gt;</td>\n",
       "      <td>280</td>\n",
       "    </tr>\n",
       "    <tr>\n",
       "      <th>1</th>\n",
       "      <td>3</td>\n",
       "      <td>30631.60</td>\n",
       "      <td>1</td>\n",
       "      <td>1314</td>\n",
       "      <td>250</td>\n",
       "    </tr>\n",
       "    <tr>\n",
       "      <th>2</th>\n",
       "      <td>&lt;NA&gt;</td>\n",
       "      <td>86992.50</td>\n",
       "      <td>2</td>\n",
       "      <td>&lt;NA&gt;</td>\n",
       "      <td>552</td>\n",
       "    </tr>\n",
       "    <tr>\n",
       "      <th>3</th>\n",
       "      <td>4</td>\n",
       "      <td>43325.75</td>\n",
       "      <td>1</td>\n",
       "      <td>6111</td>\n",
       "      <td>830</td>\n",
       "    </tr>\n",
       "    <tr>\n",
       "      <th>4</th>\n",
       "      <td>1</td>\n",
       "      <td>37481.80</td>\n",
       "      <td>1</td>\n",
       "      <td>5220</td>\n",
       "      <td>350</td>\n",
       "    </tr>\n",
       "    <tr>\n",
       "      <th>...</th>\n",
       "      <td>...</td>\n",
       "      <td>...</td>\n",
       "      <td>...</td>\n",
       "      <td>...</td>\n",
       "      <td>...</td>\n",
       "    </tr>\n",
       "    <tr>\n",
       "      <th>40166</th>\n",
       "      <td>3</td>\n",
       "      <td>30101.60</td>\n",
       "      <td>1</td>\n",
       "      <td>1314</td>\n",
       "      <td>350</td>\n",
       "    </tr>\n",
       "    <tr>\n",
       "      <th>40167</th>\n",
       "      <td>1</td>\n",
       "      <td>14368.89</td>\n",
       "      <td>1</td>\n",
       "      <td>8321</td>\n",
       "      <td>350</td>\n",
       "    </tr>\n",
       "    <tr>\n",
       "      <th>40168</th>\n",
       "      <td>3</td>\n",
       "      <td>19137.33</td>\n",
       "      <td>1</td>\n",
       "      <td>1314</td>\n",
       "      <td>230</td>\n",
       "    </tr>\n",
       "    <tr>\n",
       "      <th>40169</th>\n",
       "      <td>2</td>\n",
       "      <td>30985.00</td>\n",
       "      <td>1</td>\n",
       "      <td>1120</td>\n",
       "      <td>280</td>\n",
       "    </tr>\n",
       "    <tr>\n",
       "      <th>40170</th>\n",
       "      <td>3</td>\n",
       "      <td>15738.00</td>\n",
       "      <td>1</td>\n",
       "      <td>6121</td>\n",
       "      <td>250</td>\n",
       "    </tr>\n",
       "  </tbody>\n",
       "</table>\n",
       "<p>40171 rows × 5 columns</p>\n",
       "</div>"
      ],
      "text/plain": [
       "         CW      PCINC  JOB OCCUP  HGC\n",
       "0      <NA>  108417.00    2  <NA>  280\n",
       "1         3   30631.60    1  1314  250\n",
       "2      <NA>   86992.50    2  <NA>  552\n",
       "3         4   43325.75    1  6111  830\n",
       "4         1   37481.80    1  5220  350\n",
       "...     ...        ...  ...   ...  ...\n",
       "40166     3   30101.60    1  1314  350\n",
       "40167     1   14368.89    1  8321  350\n",
       "40168     3   19137.33    1  1314  230\n",
       "40169     2   30985.00    1  1120  280\n",
       "40170     3   15738.00    1  6121  250\n",
       "\n",
       "[40171 rows x 5 columns]"
      ]
     },
     "execution_count": 5,
     "metadata": {},
     "output_type": "execute_result"
    }
   ],
   "source": [
    "#Converting Objects into integers instead.\n",
    "class_df.loc[:, \"CW\"] = pd.to_numeric(class_df[\"CW\"].str.strip(), errors=\"coerce\").astype(\"Int64\")\n",
    "class_df.loc[:, \"OCCUP\"] = pd.to_numeric(class_df[\"OCCUP\"].str.strip(), errors=\"coerce\").astype(\"Int64\")\n",
    "class_df"
   ]
  },
  {
   "cell_type": "markdown",
   "metadata": {},
   "source": [
    "Now let us check for any null values in our dataset."
   ]
  },
  {
   "cell_type": "code",
   "execution_count": null,
   "metadata": {},
   "outputs": [
    {
     "data": {
      "text/plain": [
       "CW       7374\n",
       "PCINC       0\n",
       "JOB         0\n",
       "OCCUP    7374\n",
       "HGC         0\n",
       "dtype: int64"
      ]
     },
     "execution_count": 6,
     "metadata": {},
     "output_type": "execute_result"
    }
   ],
   "source": [
    "#Checking for any null values per feature.\n",
    "\n",
    "class_df[[\"CW\", \"PCINC\", \"JOB\", \"OCCUP\", \"HGC\"]].isnull().sum()"
   ]
  },
  {
   "cell_type": "code",
   "execution_count": null,
   "metadata": {},
   "outputs": [
    {
     "name": "stdout",
     "output_type": "stream",
     "text": [
      "CW       18.356526\n",
      "PCINC     0.000000\n",
      "JOB       0.000000\n",
      "OCCUP    18.356526\n",
      "HGC       0.000000\n",
      "dtype: float64\n"
     ]
    }
   ],
   "source": [
    "missing_counts = class_df.isnull().sum()\n",
    "missing_percentage = (missing_counts / len(df)) * 100\n",
    "print(missing_percentage)"
   ]
  },
  {
   "cell_type": "markdown",
   "metadata": {},
   "source": [
    "Considering that CW and OCCUP have less than 20% missing data, we can just imptute it rather than dropping the rows."
   ]
  },
  {
   "cell_type": "code",
   "execution_count": null,
   "metadata": {},
   "outputs": [],
   "source": [
    "class_df.loc[:, \"CW\"] = class_df[\"CW\"].fillna(class_df[\"CW\"].mode()[0])\n",
    "class_df.loc[:, \"OCCUP\"] = class_df[\"OCCUP\"].fillna(class_df[\"OCCUP\"].mode()[0])"
   ]
  },
  {
   "cell_type": "markdown",
   "metadata": {},
   "source": [
    "Now to just round off our checking for nulls, we can use our dataframes themselves to know if they will return some with null values"
   ]
  },
  {
   "cell_type": "code",
   "execution_count": null,
   "metadata": {},
   "outputs": [
    {
     "name": "stdout",
     "output_type": "stream",
     "text": [
      "CW       0\n",
      "PCINC    0\n",
      "JOB      0\n",
      "OCCUP    0\n",
      "HGC      0\n",
      "dtype: int64\n"
     ]
    }
   ],
   "source": [
    "print(class_df.isna().sum())"
   ]
  },
  {
   "cell_type": "code",
   "execution_count": null,
   "metadata": {},
   "outputs": [
    {
     "name": "stderr",
     "output_type": "stream",
     "text": [
      "/var/folders/xx/0r8s9srs39q5hgvf12xgp81m0000gn/T/ipykernel_19205/527012196.py:2: SettingWithCopyWarning: \n",
      "A value is trying to be set on a copy of a slice from a DataFrame.\n",
      "Try using .loc[row_indexer,col_indexer] = value instead\n",
      "\n",
      "See the caveats in the documentation: https://pandas.pydata.org/pandas-docs/stable/user_guide/indexing.html#returning-a-view-versus-a-copy\n",
      "  class_df.loc[:, 'ID'] = range(1, len(class_df) + 1)\n"
     ]
    }
   ],
   "source": [
    "class_df.dtypes\n",
    "class_df.loc[:, 'ID'] = range(1, len(class_df) + 1)"
   ]
  },
  {
   "cell_type": "markdown",
   "metadata": {},
   "source": [
    "Here, we will start do our checking for outliers. We plan to remove them by using some constraints. "
   ]
  },
  {
   "cell_type": "code",
   "execution_count": null,
   "metadata": {},
   "outputs": [
    {
     "data": {
      "text/plain": [
       "array([[<Axes: title={'center': 'PCINC'}>,\n",
       "        <Axes: title={'center': 'JOB'}>],\n",
       "       [<Axes: title={'center': 'HGC'}>, <Axes: title={'center': 'ID'}>]],\n",
       "      dtype=object)"
      ]
     },
     "execution_count": 11,
     "metadata": {},
     "output_type": "execute_result"
    },
    {
     "data": {
      "image/png": "[encoded data removed]",
      "text/plain": [
       "<Figure size 2000x1000 with 4 Axes>"
      ]
     },
     "metadata": {},
     "output_type": "display_data"
    }
   ],
   "source": [
    "class_df.hist(bins=60, figsize=(20,10))"
   ]
  },
  {
   "cell_type": "code",
   "execution_count": null,
   "metadata": {},
   "outputs": [
    {
     "data": {
      "text/plain": [
       "<Axes: xlabel='ID', ylabel='PCINC'>"
      ]
     },
     "execution_count": 12,
     "metadata": {},
     "output_type": "execute_result"
    },
    {
     "data": {
      "image/png": "[encoded data removed]",
      "text/plain": [
       "<Figure size 2000x1000 with 1 Axes>"
      ]
     },
     "metadata": {},
     "output_type": "display_data"
    }
   ],
   "source": [
    "class_df[[\"ID\", \"PCINC\"]].plot(kind=\"scatter\", x=\"ID\", y=\"PCINC\", figsize=(20,10))"
   ]
  },
  {
   "cell_type": "code",
   "execution_count": null,
   "metadata": {},
   "outputs": [],
   "source": [
    "class_df = class_df.loc[class_df['PCINC'] <= 60000]\n",
    "# we have to ask ourselves why have this per capita income thingiemajig"
   ]
  },
  {
   "cell_type": "code",
   "execution_count": null,
   "metadata": {},
   "outputs": [],
   "source": [
    "#print(class_df[\"JOB\"])\n",
    "#print((class_df[\"CW\"] == \" \"))\n",
    "#class_df = class_df[class_df[\"CW\"] != \" \"]\n",
    "#commented everything instead\n"
   ]
  },
  {
   "cell_type": "code",
   "execution_count": null,
   "metadata": {},
   "outputs": [
    {
     "data": {
      "text/html": [
       "<div>\n",
       "<style scoped>\n",
       "    .dataframe tbody tr th:only-of-type {\n",
       "        vertical-align: middle;\n",
       "    }\n",
       "\n",
       "    .dataframe tbody tr th {\n",
       "        vertical-align: top;\n",
       "    }\n",
       "\n",
       "    .dataframe thead th {\n",
       "        text-align: right;\n",
       "    }\n",
       "</style>\n",
       "<table border=\"1\" class=\"dataframe\">\n",
       "  <thead>\n",
       "    <tr style=\"text-align: right;\">\n",
       "      <th></th>\n",
       "      <th>CW</th>\n",
       "      <th>PCINC</th>\n",
       "      <th>JOB</th>\n",
       "      <th>OCCUP</th>\n",
       "      <th>HGC</th>\n",
       "      <th>ID</th>\n",
       "    </tr>\n",
       "  </thead>\n",
       "  <tbody>\n",
       "    <tr>\n",
       "      <th>1</th>\n",
       "      <td>3</td>\n",
       "      <td>30631.60</td>\n",
       "      <td>1</td>\n",
       "      <td>1314</td>\n",
       "      <td>250</td>\n",
       "      <td>2</td>\n",
       "    </tr>\n",
       "    <tr>\n",
       "      <th>3</th>\n",
       "      <td>4</td>\n",
       "      <td>43325.75</td>\n",
       "      <td>1</td>\n",
       "      <td>6111</td>\n",
       "      <td>830</td>\n",
       "      <td>4</td>\n",
       "    </tr>\n",
       "    <tr>\n",
       "      <th>4</th>\n",
       "      <td>1</td>\n",
       "      <td>37481.80</td>\n",
       "      <td>1</td>\n",
       "      <td>5220</td>\n",
       "      <td>350</td>\n",
       "      <td>5</td>\n",
       "    </tr>\n",
       "    <tr>\n",
       "      <th>7</th>\n",
       "      <td>3</td>\n",
       "      <td>14659.17</td>\n",
       "      <td>1</td>\n",
       "      <td>6111</td>\n",
       "      <td>350</td>\n",
       "      <td>8</td>\n",
       "    </tr>\n",
       "    <tr>\n",
       "      <th>9</th>\n",
       "      <td>3</td>\n",
       "      <td>24732.33</td>\n",
       "      <td>1</td>\n",
       "      <td>6114</td>\n",
       "      <td>320</td>\n",
       "      <td>10</td>\n",
       "    </tr>\n",
       "    <tr>\n",
       "      <th>...</th>\n",
       "      <td>...</td>\n",
       "      <td>...</td>\n",
       "      <td>...</td>\n",
       "      <td>...</td>\n",
       "      <td>...</td>\n",
       "      <td>...</td>\n",
       "    </tr>\n",
       "    <tr>\n",
       "      <th>40166</th>\n",
       "      <td>3</td>\n",
       "      <td>30101.60</td>\n",
       "      <td>1</td>\n",
       "      <td>1314</td>\n",
       "      <td>350</td>\n",
       "      <td>40167</td>\n",
       "    </tr>\n",
       "    <tr>\n",
       "      <th>40167</th>\n",
       "      <td>1</td>\n",
       "      <td>14368.89</td>\n",
       "      <td>1</td>\n",
       "      <td>8321</td>\n",
       "      <td>350</td>\n",
       "      <td>40168</td>\n",
       "    </tr>\n",
       "    <tr>\n",
       "      <th>40168</th>\n",
       "      <td>3</td>\n",
       "      <td>19137.33</td>\n",
       "      <td>1</td>\n",
       "      <td>1314</td>\n",
       "      <td>230</td>\n",
       "      <td>40169</td>\n",
       "    </tr>\n",
       "    <tr>\n",
       "      <th>40169</th>\n",
       "      <td>2</td>\n",
       "      <td>30985.00</td>\n",
       "      <td>1</td>\n",
       "      <td>1120</td>\n",
       "      <td>280</td>\n",
       "      <td>40170</td>\n",
       "    </tr>\n",
       "    <tr>\n",
       "      <th>40170</th>\n",
       "      <td>3</td>\n",
       "      <td>15738.00</td>\n",
       "      <td>1</td>\n",
       "      <td>6121</td>\n",
       "      <td>250</td>\n",
       "      <td>40171</td>\n",
       "    </tr>\n",
       "  </tbody>\n",
       "</table>\n",
       "<p>29718 rows × 6 columns</p>\n",
       "</div>"
      ],
      "text/plain": [
       "      CW     PCINC  JOB OCCUP  HGC     ID\n",
       "1      3  30631.60    1  1314  250      2\n",
       "3      4  43325.75    1  6111  830      4\n",
       "4      1  37481.80    1  5220  350      5\n",
       "7      3  14659.17    1  6111  350      8\n",
       "9      3  24732.33    1  6114  320     10\n",
       "...   ..       ...  ...   ...  ...    ...\n",
       "40166  3  30101.60    1  1314  350  40167\n",
       "40167  1  14368.89    1  8321  350  40168\n",
       "40168  3  19137.33    1  1314  230  40169\n",
       "40169  2  30985.00    1  1120  280  40170\n",
       "40170  3  15738.00    1  6121  250  40171\n",
       "\n",
       "[29718 rows x 6 columns]"
      ]
     },
     "execution_count": 15,
     "metadata": {},
     "output_type": "execute_result"
    }
   ],
   "source": [
    "#Just removing duplicates incase that their is.\n",
    "class_df.drop_duplicates()\n"
   ]
  },
  {
   "cell_type": "markdown",
   "metadata": {},
   "source": [
    "Splitting the data into 80% Training and 20% Testing for the classification problem."
   ]
  },
  {
   "cell_type": "code",
   "execution_count": null,
   "metadata": {},
   "outputs": [],
   "source": [
    "X = class_df.drop(columns=[\"JOB\"])\n",
    "y = class_df[\"JOB\"]"
   ]
  },
  {
   "cell_type": "code",
   "execution_count": null,
   "metadata": {},
   "outputs": [],
   "source": [
    "X_train, X_test, y_train, y_test = train_test_split(X, y, random_state=11, test_size=0.2)"
   ]
  },
  {
   "cell_type": "markdown",
   "metadata": {},
   "source": [
    "# EDA"
   ]
  },
  {
   "cell_type": "markdown",
   "metadata": {},
   "source": [
    "The Exploratory Data Analysis (EDA) section aims to understand the relationships between variables in the dataset, particularly how different features correlate with each other. This process helps identify patterns, dependencies, and potential issues such as multicollinearity, which can impact the performance of machine learning models."
   ]
  },
  {
   "cell_type": "markdown",
   "metadata": {},
   "source": [
    "The first part of the code calculates the correlation matrix. The printed correlation matrix provides an overview of how each variable is related to the others."
   ]
  },
  {
   "cell_type": "code",
   "execution_count": null,
   "metadata": {},
   "outputs": [
    {
     "name": "stdout",
     "output_type": "stream",
     "text": [
      "             CW     PCINC       JOB     OCCUP       HGC        ID\n",
      "CW     1.000000  0.005985  0.275911 -0.321101 -0.080280 -0.007818\n",
      "PCINC  0.005985  1.000000  0.112315 -0.108615  0.282812 -0.006224\n",
      "JOB    0.275911  0.112315  1.000000  0.395068 -0.019619 -0.017477\n",
      "OCCUP -0.321101 -0.108615  0.395068  1.000000 -0.136743 -0.016386\n",
      "HGC   -0.080280  0.282812 -0.019619 -0.136743  1.000000  0.013096\n",
      "ID    -0.007818 -0.006224 -0.017477 -0.016386  0.013096  1.000000\n"
     ]
    }
   ],
   "source": [
    "corr_matrix = class_df.corr()\n",
    "print(corr_matrix)"
   ]
  },
  {
   "cell_type": "markdown",
   "metadata": {},
   "source": [
    "To visualize these relationships, the heatmap is generated. The visual representation makes it easier to identify strong correlations between features."
   ]
  },
  {
   "cell_type": "code",
   "execution_count": null,
   "metadata": {},
   "outputs": [
    {
     "data": {
      "image/png": "[encoded data removed]",
      "text/plain": [
       "<Figure size 1200x800 with 2 Axes>"
      ]
     },
     "metadata": {},
     "output_type": "display_data"
    }
   ],
   "source": [
    "# Plot heatmap\n",
    "plt.figure(figsize=(12, 8))\n",
    "sns.heatmap(corr_matrix, annot=True, cmap=\"coolwarm\", fmt=\".2f\", linewidths=0.5)\n",
    "plt.title(\"Correlation Matrix of FIES Features\")\n",
    "plt.show()"
   ]
  },
  {
   "cell_type": "markdown",
   "metadata": {},
   "source": [
    "The code processes the correlation matrix into a structured table format. The threshold for strong correlations is set at 0.1 for positive and -0.1 for negative. The filtered results are then sorted and displayed separately for positive and negative correlations."
   ]
  },
  {
   "cell_type": "code",
   "execution_count": null,
   "metadata": {},
   "outputs": [
    {
     "name": "stdout",
     "output_type": "stream",
     "text": [
      "Strong Positive Correlations:\n",
      "   Feature 1 Feature 2  Correlation\n",
      "15       JOB     OCCUP     0.395068\n",
      "10     PCINC       HGC     0.282812\n",
      "2         CW       JOB     0.275911\n",
      "8      PCINC       JOB     0.112315\n",
      "\n",
      "Strong Negative Correlations:\n",
      "   Feature 1 Feature 2  Correlation\n",
      "3         CW     OCCUP    -0.321101\n",
      "22     OCCUP       HGC    -0.136743\n",
      "9      PCINC     OCCUP    -0.108615\n"
     ]
    }
   ],
   "source": [
    "# Define thresholds\n",
    "positive_threshold = 0.1\n",
    "negative_threshold = -0.1\n",
    "\n",
    "# Convert correlation matrix into long format\n",
    "corr_long = corr_matrix.stack().reset_index()\n",
    "corr_long.columns = [\"Feature 1\", \"Feature 2\", \"Correlation\"]\n",
    "\n",
    "# Remove self-correlations (Feature 1 == Feature 2)\n",
    "corr_long = corr_long[corr_long[\"Feature 1\"] != corr_long[\"Feature 2\"]]\n",
    "\n",
    "# Sort feature pairs alphabetically to remove duplicates\n",
    "corr_long[\"Sorted Pair\"] = corr_long.apply(lambda x: tuple(sorted([x[\"Feature 1\"], x[\"Feature 2\"]])), axis=1)\n",
    "\n",
    "# Drop duplicate pairs\n",
    "corr_long = corr_long.drop_duplicates(subset=[\"Sorted Pair\"]).drop(columns=[\"Sorted Pair\"])\n",
    "\n",
    "# Filter positive and negative correlations\n",
    "strong_positive = corr_long[corr_long[\"Correlation\"] >= positive_threshold]\n",
    "strong_negative = corr_long[corr_long[\"Correlation\"] <= negative_threshold]\n",
    "\n",
    "# Display tables\n",
    "print(\"Strong Positive Correlations:\")\n",
    "print(strong_positive.sort_values(by=\"Correlation\", ascending=False))\n",
    "\n",
    "print(\"\\nStrong Negative Correlations:\")\n",
    "print(strong_negative.sort_values(by=\"Correlation\"))\n"
   ]
  },
  {
   "cell_type": "markdown",
   "metadata": {},
   "source": [
    "# Initial Model Training"
   ]
  },
  {
   "cell_type": "markdown",
   "metadata": {},
   "source": [
    "In this section, we will train the model based on the tasks. Once again, here are the tasks to be done.\n",
    "1. Classify employment status based on education level and\n",
    "2. Predict food budget for different family sizes\n",
    "\n",
    "For these, we will divide into subsections for kNN Clustering, Linear Regression and Logistic Regression."
   ]
  },
  {
   "cell_type": "markdown",
   "metadata": {},
   "source": [
    "Let us print the shape of our data and our labels for our classification task."
   ]
  },
  {
   "cell_type": "code",
   "execution_count": null,
   "metadata": {},
   "outputs": [
    {
     "name": "stdout",
     "output_type": "stream",
     "text": [
      "Training data shape:  (23774, 5)\n",
      "Training labels shape:  (23774,)\n",
      "Test data shape:  (5944, 5)\n",
      "Test labels shape:  (5944,)\n"
     ]
    }
   ],
   "source": [
    "print('Training data shape: ', X_train.shape)\n",
    "print('Training labels shape: ', y_train.shape)\n",
    "print('Test data shape: ', X_test.shape)\n",
    "print('Test labels shape: ', y_test.shape)"
   ]
  },
  {
   "cell_type": "markdown",
   "metadata": {},
   "source": [
    "Here our training data has 23774 inputs while the 5 represents the amount of features we want to see. Along with that, we have 5944 test data, again with 5 features to be utilized."
   ]
  },
  {
   "cell_type": "code",
   "execution_count": null,
   "metadata": {},
   "outputs": [
    {
     "name": "stdout",
     "output_type": "stream",
     "text": [
      "[1 2]\n"
     ]
    }
   ],
   "source": [
    "#just checking the desired label we want (has job or no job)\n",
    "print(pd.Series(y_train).unique())\n"
   ]
  },
  {
   "cell_type": "markdown",
   "metadata": {},
   "source": [
    "### k-Nearest Neighbors Algorithm"
   ]
  },
  {
   "cell_type": "markdown",
   "metadata": {},
   "source": [
    "The first of our models is the k-Nearest Neighbors Algorithm. As was discussed, the intuition behind kNN is to calculate the distance between data points given a hyperparameter k then predict. Considering we are enacting a classification task, the kNN will predict based on majority among k-neighbors. "
   ]
  },
  {
   "cell_type": "markdown",
   "metadata": {},
   "source": [
    "For now, let us show the data in our dataset highlighting the features and the associated label."
   ]
  },
  {
   "cell_type": "code",
   "execution_count": null,
   "metadata": {},
   "outputs": [],
   "source": [
    "print(\"Our data set:\")\n",
    "print(\"Features (X) \\t\\t Label (y)\")\n",
    "for i in range(len(y_train)):\n",
    "    print(str(X_train.iloc[i]) + \" \" + str(y_train.iloc[i]))"
   ]
  },
  {
   "cell_type": "markdown",
   "metadata": {},
   "source": [
    "Now, we will use `sklearn.neighbors.KNeighborsClassifier`. This will help trivialize our tasks moving forward in training the kNN model"
   ]
  },
  {
   "cell_type": "markdown",
   "metadata": {},
   "source": [
    "We import first KNeighborsClassifier class then instantiate it."
   ]
  },
  {
   "cell_type": "code",
   "execution_count": null,
   "metadata": {},
   "outputs": [],
   "source": [
    "from sklearn.neighbors import KNeighborsClassifier\n",
    "kNN_model = KNeighborsClassifier()"
   ]
  },
  {
   "cell_type": "markdown",
   "metadata": {},
   "source": [
    "Now we will fit the data into the model"
   ]
  },
  {
   "cell_type": "code",
   "execution_count": null,
   "metadata": {},
   "outputs": [],
   "source": [
    "kNN_model.fit(X_train, y_train)"
   ]
  },
  {
   "cell_type": "markdown",
   "metadata": {},
   "source": [
    "We will now test our model by making it predict the labels of our training data."
   ]
  },
  {
   "cell_type": "code",
   "execution_count": null,
   "metadata": {},
   "outputs": [],
   "source": [
    "kNN_model.predict(X_train)"
   ]
  },
  {
   "cell_type": "markdown",
   "metadata": {},
   "source": [
    "We can also display the feature values and corresponding distances calculated by the KNN model. We do this by first converting our dataset into NumPy array because `scikit-learn` expects NumPy arrays as input. This will make it easier for us to utilize our KNN model."
   ]
  },
  {
   "cell_type": "code",
   "execution_count": null,
   "metadata": {},
   "outputs": [],
   "source": [
    "kNN_model.fit(X_train, y_train)\n",
    "kNN_model.predict(X_train)"
   ]
  },
  {
   "cell_type": "code",
   "execution_count": null,
   "metadata": {},
   "outputs": [],
   "source": [
    "#X_train = X_train.to_numpy()\n",
    "#X_test = X_test.to_numpy()\n",
    "#y_train = y_train.to_numpy()\n",
    "#y_test = y_test.to_numpy()"
   ]
  },
  {
   "cell_type": "code",
   "execution_count": null,
   "metadata": {},
   "outputs": [],
   "source": [
    "neighbors = 5\n",
    "\n",
    "(distances, data_index) = kNN_model.kneighbors(X_train, neighbors)\n",
    "\n",
    "distances = distances[:, 1:]\n",
    "data_index = data_index[:, 1:]"
   ]
  },
  {
   "cell_type": "code",
   "execution_count": null,
   "metadata": {},
   "outputs": [],
   "source": [
    "import numpy as np\n",
    "np.set_printoptions(suppress=True, precision=2) \n",
    "\n",
    "print(\"The \" + str(neighbors) + \" nearest neighbors:\")\n",
    "for i in range(neighbors):\n",
    "    print(i + 1, np.around(X_train[data_index[i]], 2), \"\\t dist: \"+ str(np.around(distances[i], 2)))"
   ]
  },
  {
   "cell_type": "markdown",
   "metadata": {},
   "source": [
    "Here, we display the nearest neighbors for each data point along with their distances to other points. Although we specified five neighbors, only four are shown because we excluded the closest one, which is typically the data point itself."
   ]
  },
  {
   "cell_type": "markdown",
   "metadata": {},
   "source": [
    "Now, let us train a KNN model with a set hyperparameter `k`, which serves as the number of neighbors the model will look at for predictions. For now, we will set k = 5."
   ]
  },
  {
   "cell_type": "code",
   "execution_count": null,
   "metadata": {},
   "outputs": [],
   "source": [
    "kNN_model = KNeighborsClassifier(n_neighbors = 5)"
   ]
  },
  {
   "cell_type": "markdown",
   "metadata": {},
   "source": [
    "We will now fit the data and then store the predictions from the test data to `y_predicted`."
   ]
  },
  {
   "cell_type": "code",
   "execution_count": null,
   "metadata": {},
   "outputs": [],
   "source": [
    "kNN_model.fit(X_train, y_train)\n",
    "y_predicted = kNN_model.predict(X_test)"
   ]
  },
  {
   "cell_type": "markdown",
   "metadata": {},
   "source": [
    "Let us now look at the performance of our KNN model by looking at the Accuracy Score of our predictions `y_predicted` against the ground truth values `y_test`"
   ]
  },
  {
   "cell_type": "code",
   "execution_count": null,
   "metadata": {},
   "outputs": [],
   "source": [
    "from sklearn.metrics import accuracy_score, classification_report\n",
    "print(classification_report(y_test, y_predicted))\n",
    "print(\"Accuracy Score (Predictions):\", accuracy_score(y_test, y_predicted))"
   ]
  },
  {
   "cell_type": "markdown",
   "metadata": {},
   "source": [
    "The model correctly predicted approximately 84% of the test data. While this is a high accuracy, there is still room for improvement. To enhance performance, we can fine-tune the value of k and apply standardization to the data."
   ]
  },
  {
   "cell_type": "code",
   "execution_count": null,
   "metadata": {},
   "outputs": [],
   "source": [
    "#TODO\n",
    "    #HYPERPARAMETER TUNING"
   ]
  },
  {
   "cell_type": "code",
   "execution_count": null,
   "metadata": {},
   "outputs": [],
   "source": [
    "#TODO\n",
    "    #STANDARDIZATION"
   ]
  },
  {
   "cell_type": "markdown",
   "metadata": {},
   "source": [
    "### Logistic Regression"
   ]
  },
  {
   "cell_type": "markdown",
   "metadata": {},
   "source": [
    "Considering that all of our data have different numeric values. It's important that have standerdized to the same scale, to prevent any dominant features from overpowering the smaller one."
   ]
  },
  {
   "cell_type": "code",
   "execution_count": null,
   "metadata": {},
   "outputs": [],
   "source": [
    "from sklearn.model_selection import cross_val_score, KFold\n",
    "from sklearn.metrics import f1_score, accuracy_score\n",
    "from sklearn.metrics import confusion_matrix\n",
    "\n",
    "kf = KFold(n_splits=10, shuffle=True, random_state=13)"
   ]
  },
  {
   "cell_type": "code",
   "execution_count": null,
   "metadata": {},
   "outputs": [],
   "source": [
    "scaler = StandardScaler()\n",
    "X_train_scaled = scaler.fit_transform(X_train)\n",
    "X_test_scaled = scaler.transform(X_test)"
   ]
  },
  {
   "cell_type": "markdown",
   "metadata": {},
   "source": [
    "After any preprocessing, we used a K-fold cross-validation to evaluate the perforamnce of LG model on our training data. We want to calculate the F1-score and Accuracy."
   ]
  },
  {
   "cell_type": "code",
   "execution_count": null,
   "metadata": {},
   "outputs": [
    {
     "name": "stdout",
     "output_type": "stream",
     "text": [
      "Average F1-score: 0.982288812736166\n",
      "Average Accuracy: 0.970513945496033\n"
     ]
    }
   ],
   "source": [
    "model = LogisticRegression(random_state=11)\n",
    "f1_scores = cross_val_score(model, X_train_scaled, y_train, scoring='f1', cv=kf)\n",
    "accuracy_scores = cross_val_score(model, X_train_scaled, y_train, scoring='accuracy', cv=kf)\n",
    "\n",
    "print(f\"Average F1-score: {np.mean(f1_scores)}\")\n",
    "print(f\"Average Accuracy: {np.mean(accuracy_scores)}\")"
   ]
  },
  {
   "cell_type": "markdown",
   "metadata": {},
   "source": [
    "Model is trained using the scaled training data. After training, the model predicts labels for the scaled test set. We want to train the model once and then evaluate it on a separate test set. "
   ]
  },
  {
   "cell_type": "code",
   "execution_count": null,
   "metadata": {},
   "outputs": [],
   "source": [
    "model.fit(X_train_scaled, y_train)\n",
    "y_predicted = model.predict(X_test_scaled)"
   ]
  },
  {
   "cell_type": "code",
   "execution_count": null,
   "metadata": {},
   "outputs": [
    {
     "name": "stdout",
     "output_type": "stream",
     "text": [
      "F1-score: 0.9795094377712728\n",
      "Accuracy: 0.9658479138627187\n"
     ]
    }
   ],
   "source": [
    "f1_test = f1_score(y_test, y_predicted)\n",
    "accuracy_test = accuracy_score(y_test, y_predicted)\n",
    "\n",
    "print(f\"F1-score: {f1_test}\")\n",
    "print(f\"Accuracy: {accuracy_test}\")"
   ]
  },
  {
   "cell_type": "code",
   "execution_count": null,
   "metadata": {},
   "outputs": [
    {
     "name": "stdout",
     "output_type": "stream",
     "text": [
      "[[4852  203]\n",
      " [   0  889]]\n"
     ]
    }
   ],
   "source": [
    "cm = confusion_matrix(y_test, y_pred)\n",
    "print(cm)"
   ]
  },
  {
   "cell_type": "code",
   "execution_count": null,
   "metadata": {},
   "outputs": [
    {
     "name": "stdout",
     "output_type": "stream",
     "text": [
      "1    4852\n",
      "2    1092\n",
      "Name: count, dtype: int64\n",
      "JOB\n",
      "1    5055\n",
      "2     889\n",
      "Name: count, dtype: int64\n"
     ]
    }
   ],
   "source": [
    "y_pred_series = pd.Series(y_pred)\n",
    "\n",
    "print(y_pred_series.value_counts())\n",
    "print(y_test.value_counts())"
   ]
  },
  {
   "cell_type": "markdown",
   "metadata": {},
   "source": [
    "### Neural Network"
   ]
  },
  {
   "cell_type": "markdown",
   "metadata": {},
   "source": [
    "In this subsection, we will create a neural network model. Now, let us just first set the theoretical knowledge we are given. We have 5 we want to look at, therefore we have 5 input nodes. Then, we have a classification task. Considering that there is only an output of whether someone is predicted to have a job or not."
   ]
  },
  {
   "cell_type": "markdown",
   "metadata": {},
   "source": [
    "Now, to formally start, we will first import the necessary libraries for creating a neural network. The one we will use is torch."
   ]
  },
  {
   "cell_type": "code",
   "execution_count": null,
   "metadata": {},
   "outputs": [],
   "source": [
    "import torch.optim as optim\n",
    "import torch.nn as nn\n",
    "import numpy as np\n",
    "import torch"
   ]
  },
  {
   "cell_type": "markdown",
   "metadata": {},
   "source": [
    "Next, we will now convert our train and test data to torch tensor. However before that, a little bit more preprocessing."
   ]
  },
  {
   "cell_type": "code",
   "execution_count": null,
   "metadata": {},
   "outputs": [],
   "source": [
    "X_train.dtypes"
   ]
  },
  {
   "cell_type": "markdown",
   "metadata": {},
   "source": [
    "As seen, CW and OCCUP are object datta types even though they are integers according to the dictionary. It is imperative that there are no object datatypes for what we will tackle in neural network"
   ]
  },
  {
   "cell_type": "code",
   "execution_count": null,
   "metadata": {},
   "outputs": [],
   "source": [
    "X_train[[\"CW\", \"OCCUP\"]] = X_train[[\"CW\", \"OCCUP\"]].astype(int)\n",
    "X_train.shape\n",
    "\n",
    "X_test[[\"CW\", \"OCCUP\"]] = X_test[[\"CW\", \"OCCUP\"]].astype(int)"
   ]
  },
  {
   "cell_type": "markdown",
   "metadata": {},
   "source": [
    "Now let us just confirm that we do have them as int datatypes instead of objects to allow tensor conversion."
   ]
  },
  {
   "cell_type": "code",
   "execution_count": null,
   "metadata": {},
   "outputs": [],
   "source": [
    "X_train.dtypes"
   ]
  },
  {
   "cell_type": "markdown",
   "metadata": {},
   "source": [
    "Afterwards, we can now convert to tensors."
   ]
  },
  {
   "cell_type": "code",
   "execution_count": null,
   "metadata": {},
   "outputs": [],
   "source": [
    "\n",
    "X_train_torch = torch.tensor(X_train.values, dtype=torch.float32)\n",
    "y_train_torch = torch.tensor(y_train.values, dtype=torch.float32)\n",
    "\n",
    "X_test_torch = torch.tensor(X_test.values, dtype=torch.float32)\n",
    "y_test_torch = torch.tensor(y_test.values, dtype=torch.float32)\n",
    "\n"
   ]
  },
  {
   "cell_type": "markdown",
   "metadata": {},
   "source": [
    "Lastly, we need to make some slight modifications to y_train_torch and y_test_torch. Consider that in a binary classification task, there are only two possible outputs, 0 and 1. According to the dictionary, there is an output of 1 or 2 in the JOB column. As such, we will convert 2, the one to signify that someone does NOT have a job, to 0./"
   ]
  },
  {
   "cell_type": "code",
   "execution_count": null,
   "metadata": {},
   "outputs": [],
   "source": [
    "y_train_torch = (y_train_torch == 1).float()\n",
    "y_test_torch = (y_test_torch == 1).float()"
   ]
  },
  {
   "cell_type": "markdown",
   "metadata": {},
   "source": [
    "We will use these converted data and feed it into our neural network. As for the neural network, we will set up the size of our network, then initiailize the weights, do forward propagation then get the classification predictions."
   ]
  },
  {
   "cell_type": "markdown",
   "metadata": {},
   "source": [
    "We have a neural_network.py file that will help us to do our neural network."
   ]
  },
  {
   "cell_type": "code",
   "execution_count": null,
   "metadata": {},
   "outputs": [],
   "source": [
    "from src.neural_network import NeuralNetwork"
   ]
  },
  {
   "cell_type": "markdown",
   "metadata": {},
   "source": [
    "Then we instantiate a NeuralNetwork object"
   ]
  },
  {
   "cell_type": "code",
   "execution_count": null,
   "metadata": {},
   "outputs": [],
   "source": [
    "network = NeuralNetwork(input_size=5, num_classes=2, list_hidden=[128, 64, 32], activation=\"sigmoid\")"
   ]
  },
  {
   "cell_type": "code",
   "execution_count": null,
   "metadata": {},
   "outputs": [],
   "source": [
    "network.create_network()"
   ]
  },
  {
   "cell_type": "markdown",
   "metadata": {},
   "source": [
    "We will now apply weights. "
   ]
  },
  {
   "cell_type": "code",
   "execution_count": null,
   "metadata": {},
   "outputs": [],
   "source": [
    "network.init_weights()\n",
    "print(network.layers[0].weight)"
   ]
  },
  {
   "cell_type": "markdown",
   "metadata": {},
   "source": [
    "Now let us see the bias term of the network layers"
   ]
  },
  {
   "cell_type": "code",
   "execution_count": null,
   "metadata": {},
   "outputs": [],
   "source": [
    "print(network.layers[0].bias)"
   ]
  },
  {
   "cell_type": "markdown",
   "metadata": {},
   "source": [
    "Next step is to do forward propagation. Here, forward propagation computes the output of probabilities. The intuition behind this is that a neuron can either be 0 or 1."
   ]
  },
  {
   "cell_type": "markdown",
   "metadata": {},
   "source": [
    "First let us get the probabilities of our training data"
   ]
  },
  {
   "cell_type": "code",
   "execution_count": null,
   "metadata": {},
   "outputs": [],
   "source": [
    "probabilities = network.forward(X_train_torch)"
   ]
  },
  {
   "cell_type": "code",
   "execution_count": null,
   "metadata": {},
   "outputs": [],
   "source": [
    "print(probabilities)"
   ]
  },
  {
   "cell_type": "markdown",
   "metadata": {},
   "source": [
    "Afterwards we will get the prediction."
   ]
  },
  {
   "cell_type": "code",
   "execution_count": null,
   "metadata": {},
   "outputs": [],
   "source": [
    "predictions = network.predict(probabilities)\n",
    "print(predictions)"
   ]
  },
  {
   "cell_type": "markdown",
   "metadata": {},
   "source": [
    "Lets try this on 10 random indices so we may view this in that manner instead of around 40 thousand instances."
   ]
  },
  {
   "cell_type": "markdown",
   "metadata": {},
   "source": [
    "Firstly, we get 10 random training instances."
   ]
  },
  {
   "cell_type": "code",
   "execution_count": null,
   "metadata": {},
   "outputs": [],
   "source": [
    "np.random.seed(10)\n",
    "random_indices = np.random.randint(X_train_torch.shape[0], size=10)\n",
    "print('Random indices: ', random_indices)"
   ]
  },
  {
   "cell_type": "markdown",
   "metadata": {},
   "source": [
    "Then we get the scores and probabilities."
   ]
  },
  {
   "cell_type": "code",
   "execution_count": null,
   "metadata": {},
   "outputs": [],
   "source": [
    "# Write your code here\n",
    "X_rand = X_train_torch[random_indices]\n",
    "probabilities = network.forward(X_rand)"
   ]
  },
  {
   "cell_type": "code",
   "execution_count": null,
   "metadata": {},
   "outputs": [],
   "source": [
    "print(probabilities)"
   ]
  },
  {
   "cell_type": "code",
   "execution_count": null,
   "metadata": {},
   "outputs": [],
   "source": [
    "predictions = network.predict(probabilities)\n",
    "print(predictions)"
   ]
  },
  {
   "cell_type": "markdown",
   "metadata": {},
   "source": [
    "Now let us do the same for our test data."
   ]
  },
  {
   "cell_type": "markdown",
   "metadata": {},
   "source": [
    "Let us first get some random 10 so at least we do not have to try to load the entirety of the dataset"
   ]
  },
  {
   "cell_type": "code",
   "execution_count": null,
   "metadata": {},
   "outputs": [],
   "source": [
    "np.random.seed(10)\n",
    "random_indices = np.random.randint(X_test_torch.shape[0], size=10)\n",
    "print('Random indices: ', random_indices)"
   ]
  },
  {
   "cell_type": "markdown",
   "metadata": {},
   "source": [
    "Now we do our forward propagation"
   ]
  },
  {
   "cell_type": "code",
   "execution_count": null,
   "metadata": {},
   "outputs": [],
   "source": [
    "X_rand = X_test_torch[random_indices]\n",
    "probabilities = network.forward(X_rand)"
   ]
  },
  {
   "cell_type": "code",
   "execution_count": null,
   "metadata": {},
   "outputs": [],
   "source": [
    "print(probabilities)\n"
   ]
  },
  {
   "cell_type": "markdown",
   "metadata": {},
   "source": [
    "Here we have the predictions after the probabilities. These are supposedly predicted to be all class 1."
   ]
  },
  {
   "cell_type": "code",
   "execution_count": null,
   "metadata": {},
   "outputs": [],
   "source": [
    "predictions = network.predict(probabilities)\n",
    "print(predictions)"
   ]
  },
  {
   "cell_type": "markdown",
   "metadata": {},
   "source": [
    "Checking for Loss"
   ]
  },
  {
   "cell_type": "code",
   "execution_count": null,
   "metadata": {},
   "outputs": [],
   "source": [
    "criterion = nn.BCEWithLogitsLoss()"
   ]
  },
  {
   "cell_type": "code",
   "execution_count": null,
   "metadata": {},
   "outputs": [],
   "source": [
    "target_classes = y_train_torch[random_indices]\n",
    "target_classes = (target_classes == 1).float()\n",
    "target_classes = target_classes.view(-1, 1)"
   ]
  },
  {
   "cell_type": "code",
   "execution_count": null,
   "metadata": {},
   "outputs": [],
   "source": [
    "loss = criterion(probabilities, target_classes)\n",
    "# target_classes"
   ]
  },
  {
   "cell_type": "code",
   "execution_count": null,
   "metadata": {},
   "outputs": [],
   "source": [
    "print('Loss: {:.4f}'.format(loss.item()))"
   ]
  },
  {
   "cell_type": "markdown",
   "metadata": {},
   "source": [
    "After knowing the loss, we now proceed to do backwards propagation. PyTorch has a function called `backward()` in the loss module to perform backwards propagation."
   ]
  },
  {
   "cell_type": "markdown",
   "metadata": {},
   "source": [
    "For our optimizer we will use <strong>Adam</strong>. Adam is an optimization algorithm that is essentially an extension of a classical stochastic gradient descent."
   ]
  },
  {
   "cell_type": "markdown",
   "metadata": {},
   "source": [
    "As described by Kingma and Ba in their 2015 ICLR paper titled [<b>\"Adam: A Method for Stochastic Optimization\"</b>](https://arxiv.org/abs/1412.6980),  Adam computes individual adaptive learning rates for different parameters from estimates of first (the mean), and second (uncentered variance) moments of the gradients."
   ]
  },
  {
   "cell_type": "code",
   "execution_count": null,
   "metadata": {},
   "outputs": [],
   "source": [
    "optimizer = optim.Adam(network.parameters(), lr = 0.001)"
   ]
  },
  {
   "cell_type": "markdown",
   "metadata": {},
   "source": [
    "With this code done above, we have instantiated an optimizer object with `optim.Adam`. Here `params` refers to the parameters we have set for our network. `lr` is the learning rate, in which is set to 0.001"
   ]
  },
  {
   "cell_type": "markdown",
   "metadata": {},
   "source": [
    "Afterwards, we empty the gradients of the network"
   ]
  },
  {
   "cell_type": "code",
   "execution_count": null,
   "metadata": {},
   "outputs": [],
   "source": [
    "optimizer.zero_grad()"
   ]
  },
  {
   "cell_type": "markdown",
   "metadata": {},
   "source": [
    "Then we compute the gradients on the backward propagation."
   ]
  },
  {
   "cell_type": "code",
   "execution_count": null,
   "metadata": {},
   "outputs": [],
   "source": [
    "loss.backward()"
   ]
  },
  {
   "cell_type": "markdown",
   "metadata": {},
   "source": [
    "After computing the gradients based on backward propagation, we then update the weights."
   ]
  },
  {
   "cell_type": "code",
   "execution_count": null,
   "metadata": {},
   "outputs": [],
   "source": [
    "optimizer.step()"
   ]
  },
  {
   "cell_type": "markdown",
   "metadata": {},
   "source": [
    "All that was done beforehand, as can be noticed, was only done on a few items from the dataset that was randomly picked. This was only done for posterity, making sure that we have appropriately applied the functions and thoroughly discussed them. "
   ]
  },
  {
   "cell_type": "markdown",
   "metadata": {},
   "source": [
    "To actually use the entirety of the dataset, we will utilize a <b>Mini-Batch Gradient Descent</b>."
   ]
  },
  {
   "cell_type": "markdown",
   "metadata": {},
   "source": [
    "#### Mini-Batch Gradient Descent \n",
    "<!-- I think this should be in improving model performance instead -->"
   ]
  },
  {
   "cell_type": "markdown",
   "metadata": {},
   "source": [
    "Considering the size of the dataset, we can use a mini-batch gradient descent in training the data. This ensures we have speed while also having stability."
   ]
  },
  {
   "cell_type": "markdown",
   "metadata": {},
   "source": [
    "To start, we must import a `DataLoader` class. This class allows us to set our X and y data into batches."
   ]
  },
  {
   "cell_type": "code",
   "execution_count": null,
   "metadata": {},
   "outputs": [],
   "source": [
    "from data_loader import DataLoader"
   ]
  },
  {
   "cell_type": "markdown",
   "metadata": {},
   "source": [
    "Afterwards, we instantite a `DataLoader` object. Here we will pass into the parameters our X and y training data. As for batch size, the most common are 32, 64 and 128 which are based on hardware capabilities. To allow most hardware with least strain, let us use 32. "
   ]
  },
  {
   "cell_type": "code",
   "execution_count": null,
   "metadata": {},
   "outputs": [],
   "source": [
    "data_loader = DataLoader(X_train.numpy(), y_train.numpy(), 32)"
   ]
  },
  {
   "cell_type": "markdown",
   "metadata": {},
   "source": [
    "It is noticed that we have converted the X and y data into numpy. According to class initialization, the DataLoader class takes in a numpy parameter, thus the necessity to make sure it is in numpy."
   ]
  },
  {
   "cell_type": "markdown",
   "metadata": {},
   "source": [
    "Now, to train the network with Mini-Batch Gradient Descent"
   ]
  },
  {
   "cell_type": "code",
   "execution_count": null,
   "metadata": {},
   "outputs": [],
   "source": [
    "e = 0\n",
    "max_epochs = 400\n",
    "is_converged = False\n",
    "previous_loss = 0\n",
    "losses = []\n",
    "\n",
    "# For each epoch\n",
    "while e < max_epochs and is_converged is not True:\n",
    "    \n",
    "    current_epoch_loss = 0\n",
    "    \n",
    "    # TODO: Get the batch for this epoch.\n",
    "    X_batch, y_batch = data_loader.get_batch(mode='train')\n",
    "    \n",
    "    # For each batch\n",
    "    for X, y in zip(X_batch, y_batch):\n",
    "        X = torch.Tensor(X)\n",
    "        y = torch.Tensor(y).to(torch.long)\n",
    "        \n",
    "        # TODO: Empty the gradients of the network.\n",
    "        optimizer.zero_grad()\n",
    "        \n",
    "        # TODO: Forward propagation\n",
    "        probabilities = network.forward(X)\n",
    "        \n",
    "        # TODO: Compute the loss\n",
    "        loss = criterion(probabilities, y)\n",
    "        \n",
    "        # TODO: Backward propagation\n",
    "        loss.backward()\n",
    "        \n",
    "        # TODO: Update parameters\n",
    "        optimizer.step()\n",
    "        \n",
    "        current_epoch_loss += loss.item()\n",
    "    \n",
    "    average_loss = current_epoch_loss / len(X_batch)\n",
    "    losses.append(average_loss)\n",
    "    \n",
    "    # Display the average loss per epoch\n",
    "    print('Epoch:', e + 1, '\\tLoss: {:.6f}'.format(average_loss))\n",
    "    \n",
    "    if abs(previous_loss - loss) < 0.00005:\n",
    "        is_converged = True\n",
    "    else:\n",
    "        previous_loss = loss\n",
    "        e += 1"
   ]
  },
  {
   "cell_type": "markdown",
   "metadata": {},
   "source": [
    "# Error Analysis"
   ]
  },
  {
   "cell_type": "markdown",
   "metadata": {},
   "source": [
    "### Detecting Overfitting in Logistic Regression Model"
   ]
  },
  {
   "cell_type": "markdown",
   "metadata": {},
   "source": [
    "Considering that out training of our model had a high accuracy and f1-score we have to make sure that our is not overfitting."
   ]
  },
  {
   "cell_type": "code",
   "execution_count": null,
   "metadata": {},
   "outputs": [
    {
     "data": {
      "image/png": "[encoded data removed]",
      "text/plain": [
       "<Figure size 1000x600 with 1 Axes>"
      ]
     },
     "metadata": {},
     "output_type": "display_data"
    }
   ],
   "source": [
    "C_values = [0.001, 0.01, 0.1, 1, 5, 10]\n",
    "train_scores = []\n",
    "valid_scores = []\n",
    "k = 5 \n",
    "\n",
    "for C in C_values:\n",
    "    model = LogisticRegression(C=C, random_state=11)\n",
    "\n",
    "    train_score = np.mean(cross_val_score(model, X_train_scaled, y_train, cv=k))\n",
    "    valid_score = np.mean(cross_val_score(model, X_test_scaled, y_test, cv=k))\n",
    "\n",
    "    train_scores.append(train_score)\n",
    "    valid_scores.append(valid_score)\n",
    "\n",
    "plt.figure(figsize=(10, 6))\n",
    "plt.plot(C_values, train_scores, label='Train', marker='o')\n",
    "plt.plot(C_values, valid_scores, label='Test', marker='o')\n",
    "plt.xlabel('Regularization Strength (C)')\n",
    "plt.title('Logistic Regression: Train vs Test Accuracy (k-Fold Validation)')\n",
    "plt.ylabel('Accuracy')\n",
    "plt.xscale('log')\n",
    "plt.legend()\n",
    "plt.grid(True)\n",
    "plt.show()"
   ]
  },
  {
   "cell_type": "markdown",
   "metadata": {},
   "source": [
    "The plot shows that as C increases, both train and test accuracy improve, suggesting reduced underfitting. Since the two curves remain close, the model generalizes well without significant overfitting. The best C value balances high test accuracy with minimal train-test gap."
   ]
  },
  {
   "cell_type": "markdown",
   "metadata": {},
   "source": [
    "To further analyze our model we have to find the RMSE, MAE, and R^2"
   ]
  },
  {
   "cell_type": "code",
   "execution_count": null,
   "metadata": {},
   "outputs": [
    {
     "name": "stdout",
     "output_type": "stream",
     "text": [
      "RMSE: 0.18480283043633636\n",
      "MAE: 0.03415208613728129\n",
      "R² Score: 0.7314952841577296\n"
     ]
    }
   ],
   "source": [
    "y_pred = model.predict(X_test_scaled)\n",
    "\n",
    "rmse = np.sqrt(mean_squared_error(y_test, y_pred))\n",
    "mae = mean_absolute_error(y_test, y_pred)\n",
    "r2 = r2_score(y_test, y_pred)\n",
    "\n",
    "print(f\"RMSE: {rmse}\")\n",
    "print(f\"MAE: {mae}\")\n",
    "print(f\"R² Score: {r2}\")"
   ]
  },
  {
   "cell_type": "markdown",
   "metadata": {},
   "source": [
    "# Improving Model Performance"
   ]
  },
  {
   "cell_type": "markdown",
   "metadata": {},
   "source": [
    "# Insights and Conclusions"
   ]
  },
  {
   "cell_type": "markdown",
   "metadata": {},
   "source": [
    "# References"
   ]
  }
 ],
 "metadata": {
  "kernelspec": {
   "display_name": "Python 3",
   "language": "python",
   "name": "python3"
  },
  "language_info": {
   "codemirror_mode": {
    "name": "ipython",
    "version": 3
   },
   "file_extension": ".py",
   "mimetype": "text/x-python",
   "name": "python",
   "nbconvert_exporter": "python",
   "pygments_lexer": "ipython3",
   "version": "3.12.8"
  }
 },
 "nbformat": 4,
 "nbformat_minor": 2
}
