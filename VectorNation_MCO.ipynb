{
 "cells": [
  {
   "cell_type": "markdown",
   "metadata": {},
   "source": [
    "# Introduction"
   ]
  },
  {
   "cell_type": "markdown",
   "metadata": {},
   "source": [
    "We are **Vector Nation**. Composed of the following:\n",
    "- Ariaga, Marian\n",
    "- Clemente, Francis\n",
    "- De Guzman, Evan\n",
    "- Villaflores, Charlize\n",
    "\n",
    "Taking STINTSY, section S16 under Sir Alvin Alon. "
   ]
  },
  {
   "cell_type": "markdown",
   "metadata": {},
   "source": [
    "This Major Course Output (MCO) is to solve a <span style=\"color:red\">*classification / regression*</span> task using the Philippine Statistics Authority or PSA's <span style=\"color:green\">**Family Income and Expenditure dataset**.</span> \n",
    "\n",
    "### *classification / regression task*"
   ]
  },
  {
   "cell_type": "markdown",
   "metadata": {},
   "source": [
    "# Description of the Data Set"
   ]
  },
  {
   "cell_type": "markdown",
   "metadata": {},
   "source": [
    "# List of Requirements"
   ]
  },
  {
   "cell_type": "markdown",
   "metadata": {},
   "source": [
    "# Data Cleaning and Pre-Processing"
   ]
  },
  {
   "cell_type": "markdown",
   "metadata": {},
   "source": [
    "# EDA"
   ]
  }
 ],
 "metadata": {
  "language_info": {
   "name": "python"
  }
 },
 "nbformat": 4,
 "nbformat_minor": 2
}
