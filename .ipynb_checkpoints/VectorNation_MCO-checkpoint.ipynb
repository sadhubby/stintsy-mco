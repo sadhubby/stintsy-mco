{
 "cells": [
  {
   "cell_type": "markdown",
   "metadata": {},
   "source": [
    "# Introduction"
   ]
  },
  {
   "cell_type": "markdown",
   "metadata": {},
   "source": [
    "We are **Vector Nation**. Composed of the following:\n",
    "- Ariaga, Marian\n",
    "- Clemente, Francis\n",
    "- De Guzman, Evan\n",
    "- Villaflores, Charlize\n",
    "\n",
    "Taking STINTSY, section S16 under Sir Alvin Alon. "
   ]
  },
  {
   "cell_type": "markdown",
   "metadata": {},
   "source": [
    "This **Major Course Output (MCO)** aims to solve both a classification and regression task task using the Philippine Statistics Authority or PSA's <span style=\"color:green\">**Family Income and Expenditure dataset**.</span> \n",
    "\n",
    "### The Tasks\n",
    "\n",
    "In specificity, the group aims to create train and test two machine learning models that can:\n",
    "1. Classify employment status based on education level and\n",
    "2. Predict food budget for different family sizes\n",
    "\n",
    "We will use these three algorithms: (still not sure lmao)\n",
    "- kNN Clustering Algorithm\n",
    "- Linear Regression and Logistic Regression\n",
    "- Neural Networks"
   ]
  },
  {
   "cell_type": "markdown",
   "metadata": {},
   "source": [
    "# Description of the Data Set"
   ]
  },
  {
   "cell_type": "markdown",
   "metadata": {},
   "source": [
    "Once again, the data set that we will use is  <span style=\"color:green\">**Family Income and Expenditure dataset**.</span>. The original data set has an enormous 119 variables to use. For the purposes of the tasks at hand, many variables will be cut off "
   ]
  },
  {
   "cell_type": "markdown",
   "metadata": {},
   "source": [
    "# List of Requirements"
   ]
  },
  {
   "cell_type": "markdown",
   "metadata": {},
   "source": [
    "<span style=\"color:red\">**#TODO**</span> Update accordingly depending on what we use in the entirety of the notebook."
   ]
  },
  {
   "cell_type": "markdown",
   "metadata": {},
   "source": [
    "# Data Cleaning and Pre-Processing"
   ]
  },
  {
   "cell_type": "markdown",
   "metadata": {},
   "source": [
    "L"
   ]
  },
  {
   "cell_type": "code",
   "execution_count": null,
   "metadata": {},
   "outputs": [],
   "source": [
    "#Loading "
   ]
  },
  {
   "cell_type": "markdown",
   "metadata": {},
   "source": [
    "# EDA"
   ]
  }
 ],
 "metadata": {
  "kernelspec": {
   "display_name": "Python 3 (ipykernel)",
   "language": "python",
   "name": "python3"
  },
  "language_info": {
   "codemirror_mode": {
    "name": "ipython",
    "version": 3
   },
   "file_extension": ".py",
   "mimetype": "text/x-python",
   "name": "python",
   "nbconvert_exporter": "python",
   "pygments_lexer": "ipython3",
   "version": "3.11.7"
  }
 },
 "nbformat": 4,
 "nbformat_minor": 2
}
