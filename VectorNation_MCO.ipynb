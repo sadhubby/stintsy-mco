{
 "cells": [
  {
   "cell_type": "markdown",
   "metadata": {},
   "source": [
    "# Introduction"
   ]
  },
  {
   "cell_type": "markdown",
   "metadata": {},
   "source": [
    "We are **Vector Nation**. Composed of the following:\n",
    "- Ariaga, Marian\n",
    "- Clemente, Francis\n",
    "- De Guzman, Evan\n",
    "- Villaflores, Charlize\n",
    "\n",
    "Taking STINTSY, section S16 under Sir Alvin Alon. "
   ]
  },
  {
   "cell_type": "markdown",
   "metadata": {},
   "source": [
    "This **Major Course Output (MCO)** aims to solve both a classification and regression task task using the Philippine Statistics Authority or PSA's <span style=\"color:green\">**Family Income and Expenditure dataset**.</span> \n",
    "\n",
    "### The Tasks\n",
    "\n",
    "In specificity, the group aims to create train and test two machine learning models that can:\n",
    "1. Classify employment status based on education level and\n",
    "2. Predict food budget for different family sizes\n",
    "\n",
    "We will use these three algorithms: \n",
    "- kNN Clustering Algorithm\n",
    "- Linear Regression and Logistic Regression\n",
    "- Neural Networks"
   ]
  },
  {
   "cell_type": "markdown",
   "metadata": {},
   "source": [
    "# Description of the Data Set"
   ]
  },
  {
   "cell_type": "markdown",
   "metadata": {},
   "source": [
    "Once again, the data set that we will use is  <span style=\"color:green\">**Family Income and Expenditure dataset**.</span>. The original data set has an enormous 119 variables to use.\n",
    "The 2012 Family Income Expendture Survey (FIES) was adopted from the 2009 Philippine Classification of Individual Consumption According to Purpose (PCOICOP).  \n",
    "\n",
    "The **2012 FIES** is a sample survey designed to provide income and expenditure data for the country and its seventeen regions. They are basic sources of information on human development for policies and programs of the government. \n",
    "\n",
    "The unit of analysis in the dataset were households, implying the survey referred to characteristics of population residing in private households. "
   ]
  },
  {
   "cell_type": "markdown",
   "metadata": {},
   "source": [
    "### Dataset Features\n",
    "\n",
    "Show below is the table that shows the variables in the first column and the definition of their data in Column 2\n",
    "| Abbreviation | Definition |\n",
    "|:--------:|:--------|\n",
    "W_REGN | Region\n",
    "W_OID | Other ID\n",
    "W_SHSN | Sample household serial number\n",
    "W_HCN | Household control number\n",
    "URB | Urban / Rural\n",
    "RSTR | Stratum\n",
    "PSU | PSU number\n",
    "BWEIGHT | Base weight\n",
    "RFACT | Final weight\n",
    "FSIZE | How many members are there in the family?\n",
    "AGRI_SAL | Did you or any member of your family receive salaries and wages from employment in agricultural sectors, in cash (including allowances, honoraria, tips, bonus, commissions) and in kind (including housing, food, grocery, clothing and medical benefits)? How much?\n",
    "NONAGRI_SAL | Did you or any member of your family receive salaries and wages from employment in non-agricultural sectors, in cash (including allowances, honoraria, tips, bonus,commissions) and in kind (including housing, food, grocery, clothing and medical benefits)? How much?\n",
    "WAGES | Salaries and wages from both agricultural and non-agricultural activities\n",
    "NETSHARE | Did you or any member of your family receive net share of crops, fruits and vegetables produced, fishing or livestock and poultry raised by other households? If yes, how much was sold for cash or consumed by the family?\n",
    "CASH_ABROAD | Did you or any member of your family receive cash, gift or other form of assistance from abroad? How much?\n",
    "CASH_DOMESTIC | Did you or any member of your family receive cash, gift, support, assistance or relief from domestic source? How much?\n",
    "RENTALS_REC | Did you or any member of your family receive in cash or in kind, rentals from non-agricultural lang, buildings, spaces or other properties? How much?\n",
    "INTEREST | Did you or any member of your family receive in cash or in kind, interest from bank deposits and loans extended to other families? How much?\n",
    "PENSION | Did you or any member of your family receive in cash or in kind, pension and retirement, workmen’s compensation, or social security benefits? How much?\n",
    "DIVIDENDS | Did you or any member of your family receive in cash or in kind, any dividend from investments (stock, bonds, etc.)? How much?\n",
    "OTHER_SOURCE | Did you or any member of your family receive in cash or in kind, other sources of income not elsewhere classified such as royalties and income of family members below 10 years old? How much?\n",
    "NET_RECEIPT | Total net receipts from family sustenance activity\n",
    "REGFT | Total received as gifts\n",
    "NET_CFG | Net income from crop farming and gardening\n",
    "NET_LPR | Net income from livestock and poultry raising\n",
    "NET_FISH | Net income from fishing\n",
    "NET_FOR | Net income from forestry and hunting\n",
    "NET_RET | Net income from wholesale and retail\n",
    "NET_MFG | Net income from manufacturing\n",
    "NET_COM | Net income from community, social, recreational, and personal services\n",
    "NET_TRANS | Net income from transportation, storage, and communication services\n",
    "NET_MIN | Net income from mining and quarrying\n",
    "NET_CONS | Net income from construction\n",
    "NET_NEC | Net income from entrepreneurial activities not elsewhere classified\n",
    "EAINC | Total income from entrepreneurial activities. Computation: EAINC = NET_CFG + NET_LPR + NET_FISH + NET_FOR + NET_RET + NET_MFG + NET_COM + NET_TRANS + NET_MIN + NET_CONS + NET_NEC\n",
    "TOINC | Total income. Computation: TOINC = WAGES + NETSHARE + CASH_ABROAD + CASH_DOMESTIC + RENTALS_REC + INTEREST + PENSION + DIVIDENDS + OTHER_SOURCE + NET_RECEIPT + REGFT + EAINC + T_IMPUTED_RENT\n",
    "LOSSES | Losses from entrepreneurial activities.\n",
    "T_BREAD | Total food expenditure for bread and cereals. This category includes rice in all forms, corn, wheat, barley, oats, and other cereal in the form of grain or flour, bread and other bakery products, mixes and dough for preparation of bakery products, pasta products in all forms, cereal preparations, farinaceous-based products prepared with meat, fish, seafood, cheese, vegetables and fruits.\n",
    "T_MEAT | Total food expenditure for meat. This category includes fresh, chilled or frozen meat (meat of cattle, pig, goat, chicken, duck, goose, turkey, rabbit, quail, etc.); fresh, chilled or frozen edible offal like liver, gizzard; dried, salted or smoked; preserved or processed meat, and meat-based preparations (tocino, tapa hotdog, longaniza, chorizo, corned beef, luncheon meat, meatloaf, embotido, sausages, bacon, salami, ham, etc.).\n",
    "T_FISH | Total food expenditure for fish and seafood. This category includes (1) fish, fresh, chilled or frozen; (2) dried, smoked or salted fish; (3) fresh, chilled or frozen seafoods; (4)fish otherwise prepared or preserved, canned or bottled; and (5) seafood-based preparations, canned or bottled.\n",
    "T_MILK | Total food expenditure for milk, cheese, and eggs. This category includes (1) raw milk; (2) pasteurized and sterilized milk; (3) condensed, evaporated or powdered milk; (4) yoghurt, cream, milk-based beverage and other similar milkbased products; (5) cheese and curd; and (6) egg and egg products made wholly from eggs. This category also includes milk, cream and yoghurt containing sugar, cocoa, fruit or flavorings, dairy products not based on milk such as soya milk.\n",
    "T_OIL | Total food expenditure for oil and fats. This category includes (1) butter and butter products (butter oil, etc.); (2) margarine (including “diet” margarine) and other vegetables fats (including peanut butter); (3) edible oils (corn, coconut oil including milk or Gata powder, canola oil, soya bean oil, peanut oil, etc.); and (4) edible animal fats (lard, etc.).\n",
    "T_FRUIT | Total food expenditure for fruits. This category includes (1) fresh, chilled or frozen fruit like pineapple, mango, banana, papaya, dalanghita, etc.; (2) dried fruit or preserved, fruit nuts and edible seeds (peanut, cashew nut, coconut, etc.); and (3) preserved fruit and fruit-based products.\n",
    "T_VEG | Total food expenditure for vegetables. This category includes (1) vegetables cultivated for their leaves or stalks (fresh chilled or frozen); (2) vegetables cultivated for heir fruit (fresh, chilled, frozen or dried); (3) vegetables cultivated for their roots (fresh, chilled or dried); (4) potatoes and tubers vegetables (fresh or dried); (5) vegetables preserved or processed and other vegetable-based products; and(6) products of tuber vegetables including preparations.\n",
    "T_SUGAR | Total food expenditure for sugar, jam, honey, chocolate, and confectionery. This category includes (1) cane or beet sugar, unrefined or refined; (2) jams, marmalades, fruit jellies, natural and artificial honey, maple syrup, molasses, and parts of plants preserved in sugar; (3) chocolate in bars or slabs; (4) chewing gum, sweets, toffees, and other confectionery products; (5) cocoa-based foods and cocoa-based desert preparations; (6) ice cream, sorbet and edible ice; and (7) artificial sugar substitutes.\n",
    "T_FOOD_NEC | Total food expenditure for other food not elsewhere classified. This category includes salt, spices, culinary herbs, sauces, condiments, seasonings, prepared baking powder, baking yeast, dessert preparations, soups, broths, stocks, culinary ingredients, homogenized baby food, and dietary preparations irrespective of the preparation.\n",
    "T_COFFEE | Total food expenditure for coffee, cocoa, and tea. This category includes (1) coffee, whether or not decaffeinated; (2) roasted ground, including instant coffee, tea, and other plant products for infusions (green tea, black tea, pito pito, etc.); (3) cocoa, whether or not sweetened; (4) chocolate-based powder (milo, ovaltine, etc); (5) cocoa-based beverage preparations; (6) coffee and tea substitutes; and (7) extract and essences of coffee and tea (ricoa, cocoa, tablea, cocoa beans, etc.).\n",
    "T_MINERAL | Total food expenditure for mineral water, soft drinks, fruit juices, and vegetable juices. This category includes (1) all drinking water sold in container such as mineral or spring water; (2) soft drinks such as soda, lemonade, and colas; (3) fruit and vegetables juices (pineapple juice, mango juice, orange juice, etc.); (4) syrup and concentrates for the preparation of beverages; and (5) other non-alcoholic beverages such as energy drink like Lipovitan, Red Bull, Joss, Gatorade, cobra, etc.\n",
    "T_ALCOHOL | Total food expenditure for alcoholic beverages. This category includes alcoholic beverages for consumption at home. This subsection includes low or non-alcoholic beverages which are generally alcoholic such as non-alcoholic beer.\n",
    "T_TOBACCO | Total food expenditure for tobacco. This category covers all purchases of tobacco by households, including purchases of tobacco in restaurants, cafes, bars, service stations, etc.\n",
    "T_OTHER_VEG | Total food expenditure for other vegetable-based products. This category includes other vegetable-based products such as betel leaves, betel nuts, mint leaf and lime, etc.\n",
    "T_FOOD_HOME | Total food expenditure for food consumed at home. Computation: T_FOOD_HOME = T_BREAD + T_MEAT + T_FISH + T_MILK + T_OIL + T_FRUIT + T_VEG + T_FOOD_NEC + T_SUGAR + T_COFFEE + T_MINERAL\n",
    "T_FOOD_OUTSIDE | Total food expenditure for food regularly consumed outside of home, i.e., in restaurants, cafes, and canteens.\n",
    "T_FOOD | Total food expenditure. Computation: T_FOOD = T_FOOD_HOME + T_FOOD_OUTSIDE\n",
    "T_CLOTH | Total expenditure for clothing and footwear\n",
    "T_FURNISHING | Total expenditure for furnishings and household equipment or for payments for service fees or routine house maintenance\n",
    "T_HEALTH | Total expenditure for medical products such as drugs and medicines, medical appliances and equipment or payment for any outpatient and inpatient medical services.\n",
    "T_HOUSING_WATER | Total expenditure for Housing, Water, Electricity, Gas and Other Fuels. this category includes actual rentals for housing (T_ACTRENT), imputed rentals for housing (T_IMPUTED_RENT), maintenance and repair of the dwelling, water supply and miscellaneous services relating to the dwelling and electricity, gas and other fuels.\n",
    "T_ACTRENT | Actual house rent. How much is the actual payment for the house/lot?\n",
    "T_RENTVAL | House rent / rental value. Computation: T_RENTVAL = T_ACTRENT + T_IMPUTED_RENT + T_BIMPUTED_RENT\n",
    "T_IMPUTED_RENT | Imputed house rental value\n",
    "T_BIMPUTED_RENT | Imputed housing benefit rental value\n",
    "T_TRANSPORT | Total expenditure for transportation including (1) purchase of vehicles; (2) operation of personal transport equipment such as spare parts and accessories, fuels and lubricants; (3) maintenance and repair; (4) services such as toll fees, driving lessons etc.; (5) amount spent on the regular trips made by the family members to and from the office, school, market, church, etc.; and (6) and, sea or air travel for personal purposes of any member of the family during the reference period whether the travel is within or to/from a destination outside the country.\n",
    "T_COMMUNICATION | Total expenditure for communication. This includes any telephone or telefax equipment, or payment for service fees for postal services and telephone and telefax services.\n",
    "T_RECREATION | Total expenditure for recreation. This includes all expenses incurred in (1) acquiring equipment for reception, recoding, and reproduction of sound and pictures such as television sets, radio, CD, VCD, DVD, microphones, sing along system, etc.; (2) information processing equipment such as personal computers, printers, calculators, etc.; (3) musical instruments and major durables such as pianos, guitars, violins, etc.; (4) games, toys and hobbies such as card games, chess sets, dolls, etc., and (5) purchase books, newspaper and periodicals, and stationery and drawing materials such as writing pads, envelopes, pens, pencils fountain pens, etc.\n",
    "T_EDUCATION | Total expenditure for education. This includes (1) tuition, and matriculation (2) allowances given to family members studyingaway from home; (3) school uniform and footwear; (4) computer rental services; (5) printing services; (6) graduation fees, internship fees, payment of yearbooks and other school contribution.\n",
    "T_MISCELLANEOUS | Total expenditure on miscellaneous goods and services. This includes (1) services for hairdressing salon and barbershop; (2) purchase of articles and products for personal hygiene such as toilet soap, shampoo, toothpaste; and (3) purchase of beauty products such as lipstick, make up, etc., during the past month.\n",
    "T_OTHER_EXPENDITURE | Total other expenditure. This includes (1) premiums for insurance; (2) interest payment on loans for living expenses; (3) losses due to fire and theft; (4) legal fees and membership fees to legal associations and/or professional organizations, etc., and (5) amount deducted from salary as payment for PHILHEALTH, GSIS or SSS insurance, PAG-IBIG membership, etc.\n",
    "T_OTHER_DISBURSEMENT | Total other disbursements. This refers to non-family expenditures, which may give an indication of savings on the part of the family. These include purchase or amortization of real property, payments of cash loan (principal), installments of appliances bought before 2012, installments for personal transport bought before 2012, loans granted to persons outside the household, amount deposited in banks or investments and major repair or construction of a house.\n",
    "T_NFOOD | Total non-food expenditure\n",
    "T_TOTEX | Total expenditure. Computation: T_TOTEX = T_FOOD+T_NFOOD\n",
    "T_TOTDIS | Total disbursements. Computation: T_TOTDIS = T_TOTEX + T_OTHER_DISBURSEMENT\n",
    "T_OTHREC | Total other receipts. These are non-income receipts comprising of (1) value at cost of real and personal property sold; (2) loans from other households, business firms and government institutions; (3) payments for loans granted to others; (4) and withdrawals from savings or business equity. Profits from sale of stocks and bonds, back pay and proceeds from insurance, net winnings from gambling, sweepstakes and lotteries and inheritance are also included as other receipts.\n",
    "T_TOREC | Total receipts. Computation: T_TOREC = T_OTHREC + TOINC\n",
    "SEX | Sex of the head of the family\n",
    "AGE | Age of the head of the family as of date of interview\n",
    "MS | Marital status of the head of the family\n",
    "HGC | Highest grade completed of the head of the family\n",
    "JOB | Did the head of the family have a job or business during the past six months?\n",
    "OCCUP | Primary occupation of the head of the family during the past six months\n",
    "KB | Kind of business / industry of the head of the family during the past six months\n",
    "CW | Class of worker of the head of the family during the past six months\n",
    "HHTYPE | Type of household\n",
    "MEMBERS | Number of family members\n",
    "AGELESS5 | Number of family members below 5 years old\n",
    "AGE5_17 | Number of family members between 5 to 17 years old\n",
    "EMPLOYED_PAY | Number of family members employed for pay during the past six months\n",
    "EMPLOYED_PROF | Number of family members employed for profit during the past six months\n",
    "SPOUSE_EMP | Did the spouse of the head of the family have a job or business during the past six months?\n",
    "BLDG_TYPE | Type of building of the house\n",
    "ROOF Type | Type of roof of the house\n",
    "WALLS Type | Type of walls of the house\n",
    "TENURE | Tenure status of the housing unit and lot occupied by the family\n",
    "HSE_ALTERTN | Where there any alterations or additions to the house or other major renovations done in the housing unit during the past six months?\n",
    "TOILET | Kind of toilet facilities used by the family in the house\n",
    "ELECTRIC | Is there any electricity in the building/house?\n",
    "WATER Main | source of water supply of the family\n",
    "DISTANCE | Distance of the house from the water source\n",
    "RADIO_QTY | Number of radios\n",
    "TV_QTY | Number of TVs\n",
    "CD_QTY | Number of CD / VCD / DVD\n",
    "STEREO_QTY | Number of component / stereo set\n",
    "REF_QTY | Number of refrigerator / freezers\n",
    "WASH_QTY | Number of washing machines\n",
    "AIRCON_QTY | Number of air conditioners\n",
    "CAR_QTY | Number of cars, jeeps, vans\n",
    "LANDLINE_QTY | Number of landline / wireless telephones\n",
    "CELLPHONE_QTY | Number of cellular phones\n",
    "PC_QTY | Number of personal computers\n",
    "OVEN_QTY | Number of stoves with oven / gas range\n",
    "MOTOR_BANCA_QTY | Number of motorized bangka\n",
    "MOTORCYCLE_QTY | Number of motorcycle / tricycles\n",
    "POP_ADJ | Population adjustment\n",
    "PCINC | Per capita income\n",
    "NATPC | National per capita income decile\n",
    "NATDC | National income decile\n",
    "REGDC | Regional income decile\n",
    "REGPC | Regional per capita income decile"
   ]
  },
  {
   "cell_type": "markdown",
   "metadata": {},
   "source": [
    "### Data Collection Process\n",
    "\n",
    "The PSA has stated that the data collection has two cycles, one starting on July of 2012 and ending on the end of the month. The next cycle started on January of 2013 and ended by end of month. The data was collected face to face. \n",
    "\n",
    "Participants were given questionnaires. The questionnaire collects information on family income, source of income, family expenditure and other related and relevant information regarding family income and expenditure levels in the Philippines."
   ]
  },
  {
   "cell_type": "markdown",
   "metadata": {},
   "source": [
    "# List of Requirements"
   ]
  },
  {
   "cell_type": "markdown",
   "metadata": {},
   "source": [
    "<span style=\"color:red\">**#TODO**</span> Update accordingly depending on what we use in the entirety of the notebook."
   ]
  },
  {
   "cell_type": "markdown",
   "metadata": {},
   "source": [
    "# Data Cleaning and Pre-Processing"
   ]
  },
  {
   "cell_type": "markdown",
   "metadata": {},
   "source": [
    "Loading in Prerequisites"
   ]
  },
  {
   "cell_type": "code",
   "execution_count": 1,
   "metadata": {},
   "outputs": [],
   "source": [
    "import pandas as pd\n",
    "import matplotlib.pyplot as plt\n",
    "import seaborn as sns\n",
    "import numpy as np\n",
    "from sklearn.preprocessing import StandardScaler\n",
    "from sklearn.model_selection import train_test_split\n",
    "\n",
    "#Eventually we'll add more!"
   ]
  },
  {
   "cell_type": "markdown",
   "metadata": {},
   "source": [
    "Loading in the csv dataset and splitting into the important features for this classifcaiton problem.\n",
    "\n"
   ]
  },
  {
   "cell_type": "code",
   "execution_count": 2,
   "metadata": {},
   "outputs": [
    {
     "name": "stdout",
     "output_type": "stream",
     "text": [
      "       JOB\n",
      "0        2\n",
      "1        1\n",
      "2        2\n",
      "3        1\n",
      "4        1\n",
      "...    ...\n",
      "40166    1\n",
      "40167    1\n",
      "40168    1\n",
      "40169    1\n",
      "40170    1\n",
      "\n",
      "[40171 rows x 1 columns]\n"
     ]
    }
   ],
   "source": [
    "df = pd.read_csv(\"FIES PUF 2012 Vol.1.CSV\")\n",
    "\n",
    "print(df[[\"JOB\"]])"
   ]
  },
  {
   "cell_type": "markdown",
   "metadata": {},
   "source": [
    "Just to confirm, we can see"
   ]
  },
  {
   "cell_type": "code",
   "execution_count": 3,
   "metadata": {},
   "outputs": [
    {
     "name": "stdout",
     "output_type": "stream",
     "text": [
      "Total length of a dataset is:  40171\n"
     ]
    }
   ],
   "source": [
    "class_df = df[[\"CW\", \"PCINC\", \"JOB\", \"OCCUP\", \"HGC\"]] \n",
    "# add highest grade, remove TENURE, WAGES\n",
    "\n",
    "print(\"Total length of a dataset is: \", len(df))"
   ]
  },
  {
   "cell_type": "code",
   "execution_count": 4,
   "metadata": {},
   "outputs": [
    {
     "name": "stdout",
     "output_type": "stream",
     "text": [
      "CW        object\n",
      "PCINC    float64\n",
      "JOB        int64\n",
      "OCCUP     object\n",
      "HGC        int64\n",
      "dtype: object\n"
     ]
    }
   ],
   "source": [
    "print(class_df.dtypes)"
   ]
  },
  {
   "cell_type": "code",
   "execution_count": 5,
   "metadata": {},
   "outputs": [
    {
     "data": {
      "text/html": [
       "<div>\n",
       "<style scoped>\n",
       "    .dataframe tbody tr th:only-of-type {\n",
       "        vertical-align: middle;\n",
       "    }\n",
       "\n",
       "    .dataframe tbody tr th {\n",
       "        vertical-align: top;\n",
       "    }\n",
       "\n",
       "    .dataframe thead th {\n",
       "        text-align: right;\n",
       "    }\n",
       "</style>\n",
       "<table border=\"1\" class=\"dataframe\">\n",
       "  <thead>\n",
       "    <tr style=\"text-align: right;\">\n",
       "      <th></th>\n",
       "      <th>CW</th>\n",
       "      <th>PCINC</th>\n",
       "      <th>JOB</th>\n",
       "      <th>OCCUP</th>\n",
       "      <th>HGC</th>\n",
       "    </tr>\n",
       "  </thead>\n",
       "  <tbody>\n",
       "    <tr>\n",
       "      <th>0</th>\n",
       "      <td>&lt;NA&gt;</td>\n",
       "      <td>108417.00</td>\n",
       "      <td>2</td>\n",
       "      <td>&lt;NA&gt;</td>\n",
       "      <td>280</td>\n",
       "    </tr>\n",
       "    <tr>\n",
       "      <th>1</th>\n",
       "      <td>3</td>\n",
       "      <td>30631.60</td>\n",
       "      <td>1</td>\n",
       "      <td>1314</td>\n",
       "      <td>250</td>\n",
       "    </tr>\n",
       "    <tr>\n",
       "      <th>2</th>\n",
       "      <td>&lt;NA&gt;</td>\n",
       "      <td>86992.50</td>\n",
       "      <td>2</td>\n",
       "      <td>&lt;NA&gt;</td>\n",
       "      <td>552</td>\n",
       "    </tr>\n",
       "    <tr>\n",
       "      <th>3</th>\n",
       "      <td>4</td>\n",
       "      <td>43325.75</td>\n",
       "      <td>1</td>\n",
       "      <td>6111</td>\n",
       "      <td>830</td>\n",
       "    </tr>\n",
       "    <tr>\n",
       "      <th>4</th>\n",
       "      <td>1</td>\n",
       "      <td>37481.80</td>\n",
       "      <td>1</td>\n",
       "      <td>5220</td>\n",
       "      <td>350</td>\n",
       "    </tr>\n",
       "    <tr>\n",
       "      <th>...</th>\n",
       "      <td>...</td>\n",
       "      <td>...</td>\n",
       "      <td>...</td>\n",
       "      <td>...</td>\n",
       "      <td>...</td>\n",
       "    </tr>\n",
       "    <tr>\n",
       "      <th>40166</th>\n",
       "      <td>3</td>\n",
       "      <td>30101.60</td>\n",
       "      <td>1</td>\n",
       "      <td>1314</td>\n",
       "      <td>350</td>\n",
       "    </tr>\n",
       "    <tr>\n",
       "      <th>40167</th>\n",
       "      <td>1</td>\n",
       "      <td>14368.89</td>\n",
       "      <td>1</td>\n",
       "      <td>8321</td>\n",
       "      <td>350</td>\n",
       "    </tr>\n",
       "    <tr>\n",
       "      <th>40168</th>\n",
       "      <td>3</td>\n",
       "      <td>19137.33</td>\n",
       "      <td>1</td>\n",
       "      <td>1314</td>\n",
       "      <td>230</td>\n",
       "    </tr>\n",
       "    <tr>\n",
       "      <th>40169</th>\n",
       "      <td>2</td>\n",
       "      <td>30985.00</td>\n",
       "      <td>1</td>\n",
       "      <td>1120</td>\n",
       "      <td>280</td>\n",
       "    </tr>\n",
       "    <tr>\n",
       "      <th>40170</th>\n",
       "      <td>3</td>\n",
       "      <td>15738.00</td>\n",
       "      <td>1</td>\n",
       "      <td>6121</td>\n",
       "      <td>250</td>\n",
       "    </tr>\n",
       "  </tbody>\n",
       "</table>\n",
       "<p>40171 rows × 5 columns</p>\n",
       "</div>"
      ],
      "text/plain": [
       "         CW      PCINC  JOB OCCUP  HGC\n",
       "0      <NA>  108417.00    2  <NA>  280\n",
       "1         3   30631.60    1  1314  250\n",
       "2      <NA>   86992.50    2  <NA>  552\n",
       "3         4   43325.75    1  6111  830\n",
       "4         1   37481.80    1  5220  350\n",
       "...     ...        ...  ...   ...  ...\n",
       "40166     3   30101.60    1  1314  350\n",
       "40167     1   14368.89    1  8321  350\n",
       "40168     3   19137.33    1  1314  230\n",
       "40169     2   30985.00    1  1120  280\n",
       "40170     3   15738.00    1  6121  250\n",
       "\n",
       "[40171 rows x 5 columns]"
      ]
     },
     "execution_count": 5,
     "metadata": {},
     "output_type": "execute_result"
    }
   ],
   "source": [
    "#Converting Objects into integers instead.\n",
    "class_df.loc[:, \"CW\"] = pd.to_numeric(class_df[\"CW\"].str.strip(), errors=\"coerce\").astype(\"Int64\")\n",
    "class_df.loc[:, \"OCCUP\"] = pd.to_numeric(class_df[\"OCCUP\"].str.strip(), errors=\"coerce\").astype(\"Int64\")\n",
    "class_df"
   ]
  },
  {
   "cell_type": "markdown",
   "metadata": {},
   "source": [
    "Now let us check for any null values in our dataset."
   ]
  },
  {
   "cell_type": "code",
   "execution_count": 6,
   "metadata": {},
   "outputs": [
    {
     "data": {
      "text/plain": [
       "CW       7374\n",
       "PCINC       0\n",
       "JOB         0\n",
       "OCCUP    7374\n",
       "HGC         0\n",
       "dtype: int64"
      ]
     },
     "execution_count": 6,
     "metadata": {},
     "output_type": "execute_result"
    }
   ],
   "source": [
    "#Checking for any null values per feature.\n",
    "#removed wages\n",
    "\n",
    "class_df[[\"CW\", \"PCINC\", \"JOB\", \"OCCUP\", \"HGC\"]].isnull().sum()"
   ]
  },
  {
   "cell_type": "code",
   "execution_count": 7,
   "metadata": {},
   "outputs": [
    {
     "name": "stdout",
     "output_type": "stream",
     "text": [
      "CW       18.356526\n",
      "PCINC     0.000000\n",
      "JOB       0.000000\n",
      "OCCUP    18.356526\n",
      "HGC       0.000000\n",
      "dtype: float64\n"
     ]
    }
   ],
   "source": [
    "missing_counts = class_df.isnull().sum()\n",
    "missing_percentage = (missing_counts / len(df)) * 100\n",
    "print(missing_percentage)"
   ]
  },
  {
   "cell_type": "markdown",
   "metadata": {},
   "source": [
    "Considering that CW and OCCUP have less than 20% missing data, we can just imptute it rather than dropping the rows."
   ]
  },
  {
   "cell_type": "code",
   "execution_count": 8,
   "metadata": {},
   "outputs": [
    {
     "name": "stderr",
     "output_type": "stream",
     "text": [
      "C:\\Users\\Charlize Villaflores\\AppData\\Local\\Temp\\ipykernel_12072\\960909845.py:1: FutureWarning: Downcasting object dtype arrays on .fillna, .ffill, .bfill is deprecated and will change in a future version. Call result.infer_objects(copy=False) instead. To opt-in to the future behavior, set `pd.set_option('future.no_silent_downcasting', True)`\n",
      "  class_df.loc[:, \"CW\"] = class_df[\"CW\"].fillna(class_df[\"CW\"].mode()[0])\n",
      "C:\\Users\\Charlize Villaflores\\AppData\\Local\\Temp\\ipykernel_12072\\960909845.py:2: FutureWarning: Downcasting object dtype arrays on .fillna, .ffill, .bfill is deprecated and will change in a future version. Call result.infer_objects(copy=False) instead. To opt-in to the future behavior, set `pd.set_option('future.no_silent_downcasting', True)`\n",
      "  class_df.loc[:, \"OCCUP\"] = class_df[\"OCCUP\"].fillna(class_df[\"OCCUP\"].mode()[0])\n"
     ]
    }
   ],
   "source": [
    "class_df.loc[:, \"CW\"] = class_df[\"CW\"].fillna(class_df[\"CW\"].mode()[0])\n",
    "class_df.loc[:, \"OCCUP\"] = class_df[\"OCCUP\"].fillna(class_df[\"OCCUP\"].mode()[0])"
   ]
  },
  {
   "cell_type": "markdown",
   "metadata": {},
   "source": [
    "Now to just round off our checking for nulls, we can use our dataframes themselves to know if they will return some with null values"
   ]
  },
  {
   "cell_type": "code",
   "execution_count": 9,
   "metadata": {},
   "outputs": [
    {
     "name": "stdout",
     "output_type": "stream",
     "text": [
      "CW       0\n",
      "PCINC    0\n",
      "JOB      0\n",
      "OCCUP    0\n",
      "HGC      0\n",
      "dtype: int64\n"
     ]
    }
   ],
   "source": [
    "print(class_df.isna().sum())"
   ]
  },
  {
   "cell_type": "code",
   "execution_count": 10,
   "metadata": {},
   "outputs": [
    {
     "name": "stderr",
     "output_type": "stream",
     "text": [
      "C:\\Users\\Charlize Villaflores\\AppData\\Local\\Temp\\ipykernel_12072\\527012196.py:2: SettingWithCopyWarning: \n",
      "A value is trying to be set on a copy of a slice from a DataFrame.\n",
      "Try using .loc[row_indexer,col_indexer] = value instead\n",
      "\n",
      "See the caveats in the documentation: https://pandas.pydata.org/pandas-docs/stable/user_guide/indexing.html#returning-a-view-versus-a-copy\n",
      "  class_df.loc[:, 'ID'] = range(1, len(class_df) + 1)\n"
     ]
    }
   ],
   "source": [
    "class_df.dtypes\n",
    "class_df.loc[:, 'ID'] = range(1, len(class_df) + 1)"
   ]
  },
  {
   "cell_type": "markdown",
   "metadata": {},
   "source": [
    "Here, we will start do our checking for outliers. We plan to remove them by using some constraints. "
   ]
  },
  {
   "cell_type": "code",
   "execution_count": 11,
   "metadata": {},
   "outputs": [
    {
     "data": {
      "text/plain": [
       "array([[<Axes: title={'center': 'PCINC'}>,\n",
       "        <Axes: title={'center': 'JOB'}>],\n",
       "       [<Axes: title={'center': 'HGC'}>, <Axes: title={'center': 'ID'}>]],\n",
       "      dtype=object)"
      ]
     },
     "execution_count": 11,
     "metadata": {},
     "output_type": "execute_result"
    },
    {
     "data": {
      "image/png": "[encoded data removed]",
      "text/plain": [
       "<Figure size 2000x1000 with 4 Axes>"
      ]
     },
     "metadata": {},
     "output_type": "display_data"
    }
   ],
   "source": [
    "class_df.hist(bins=60, figsize=(20,10))"
   ]
  },
  {
   "cell_type": "code",
   "execution_count": 12,
   "metadata": {},
   "outputs": [
    {
     "data": {
      "text/plain": [
       "<Axes: xlabel='ID', ylabel='PCINC'>"
      ]
     },
     "execution_count": 12,
     "metadata": {},
     "output_type": "execute_result"
    },
    {
     "data": {
      "image/png": "[encoded data removed]",
      "text/plain": [
       "<Figure size 2000x1000 with 1 Axes>"
      ]
     },
     "metadata": {},
     "output_type": "display_data"
    }
   ],
   "source": [
    "class_df[[\"ID\", \"PCINC\"]].plot(kind=\"scatter\", x=\"ID\", y=\"PCINC\", figsize=(20,10))"
   ]
  },
  {
   "cell_type": "code",
   "execution_count": 13,
   "metadata": {},
   "outputs": [],
   "source": [
    "class_df = class_df.loc[class_df['PCINC'] <= 60000]\n",
    "# we have to ask ourselves why have this per capita income thingiemajig"
   ]
  },
  {
   "cell_type": "code",
   "execution_count": null,
   "metadata": {},
   "outputs": [],
   "source": [
    "#remove wages\n",
    "#class_df[[\"ID\", \"WAGES\"]].plot(kind=\"scatter\", x=\"ID\", y=\"WAGES\", figsize=(20,10))"
   ]
  },
  {
   "cell_type": "code",
   "execution_count": 14,
   "metadata": {},
   "outputs": [
    {
     "data": {
      "text/plain": [
       "(29718, 6)"
      ]
     },
     "execution_count": 14,
     "metadata": {},
     "output_type": "execute_result"
    }
   ],
   "source": [
    "#class_df = class_df.loc[class_df['WAGES'] <= 290000]\n",
    "class_df.shape"
   ]
  },
  {
   "cell_type": "code",
   "execution_count": null,
   "metadata": {},
   "outputs": [],
   "source": [
    "#print(class_df[\"JOB\"])\n",
    "#print((class_df[\"CW\"] == \" \"))\n",
    "#class_df = class_df[class_df[\"CW\"] != \" \"]\n",
    "#commented everything instead\n"
   ]
  },
  {
   "cell_type": "code",
   "execution_count": 15,
   "metadata": {},
   "outputs": [
    {
     "data": {
      "text/html": [
       "<div>\n",
       "<style scoped>\n",
       "    .dataframe tbody tr th:only-of-type {\n",
       "        vertical-align: middle;\n",
       "    }\n",
       "\n",
       "    .dataframe tbody tr th {\n",
       "        vertical-align: top;\n",
       "    }\n",
       "\n",
       "    .dataframe thead th {\n",
       "        text-align: right;\n",
       "    }\n",
       "</style>\n",
       "<table border=\"1\" class=\"dataframe\">\n",
       "  <thead>\n",
       "    <tr style=\"text-align: right;\">\n",
       "      <th></th>\n",
       "      <th>CW</th>\n",
       "      <th>PCINC</th>\n",
       "      <th>JOB</th>\n",
       "      <th>OCCUP</th>\n",
       "      <th>HGC</th>\n",
       "      <th>ID</th>\n",
       "    </tr>\n",
       "  </thead>\n",
       "  <tbody>\n",
       "    <tr>\n",
       "      <th>1</th>\n",
       "      <td>3</td>\n",
       "      <td>30631.60</td>\n",
       "      <td>1</td>\n",
       "      <td>1314</td>\n",
       "      <td>250</td>\n",
       "      <td>2</td>\n",
       "    </tr>\n",
       "    <tr>\n",
       "      <th>3</th>\n",
       "      <td>4</td>\n",
       "      <td>43325.75</td>\n",
       "      <td>1</td>\n",
       "      <td>6111</td>\n",
       "      <td>830</td>\n",
       "      <td>4</td>\n",
       "    </tr>\n",
       "    <tr>\n",
       "      <th>4</th>\n",
       "      <td>1</td>\n",
       "      <td>37481.80</td>\n",
       "      <td>1</td>\n",
       "      <td>5220</td>\n",
       "      <td>350</td>\n",
       "      <td>5</td>\n",
       "    </tr>\n",
       "    <tr>\n",
       "      <th>7</th>\n",
       "      <td>3</td>\n",
       "      <td>14659.17</td>\n",
       "      <td>1</td>\n",
       "      <td>6111</td>\n",
       "      <td>350</td>\n",
       "      <td>8</td>\n",
       "    </tr>\n",
       "    <tr>\n",
       "      <th>9</th>\n",
       "      <td>3</td>\n",
       "      <td>24732.33</td>\n",
       "      <td>1</td>\n",
       "      <td>6114</td>\n",
       "      <td>320</td>\n",
       "      <td>10</td>\n",
       "    </tr>\n",
       "    <tr>\n",
       "      <th>...</th>\n",
       "      <td>...</td>\n",
       "      <td>...</td>\n",
       "      <td>...</td>\n",
       "      <td>...</td>\n",
       "      <td>...</td>\n",
       "      <td>...</td>\n",
       "    </tr>\n",
       "    <tr>\n",
       "      <th>40166</th>\n",
       "      <td>3</td>\n",
       "      <td>30101.60</td>\n",
       "      <td>1</td>\n",
       "      <td>1314</td>\n",
       "      <td>350</td>\n",
       "      <td>40167</td>\n",
       "    </tr>\n",
       "    <tr>\n",
       "      <th>40167</th>\n",
       "      <td>1</td>\n",
       "      <td>14368.89</td>\n",
       "      <td>1</td>\n",
       "      <td>8321</td>\n",
       "      <td>350</td>\n",
       "      <td>40168</td>\n",
       "    </tr>\n",
       "    <tr>\n",
       "      <th>40168</th>\n",
       "      <td>3</td>\n",
       "      <td>19137.33</td>\n",
       "      <td>1</td>\n",
       "      <td>1314</td>\n",
       "      <td>230</td>\n",
       "      <td>40169</td>\n",
       "    </tr>\n",
       "    <tr>\n",
       "      <th>40169</th>\n",
       "      <td>2</td>\n",
       "      <td>30985.00</td>\n",
       "      <td>1</td>\n",
       "      <td>1120</td>\n",
       "      <td>280</td>\n",
       "      <td>40170</td>\n",
       "    </tr>\n",
       "    <tr>\n",
       "      <th>40170</th>\n",
       "      <td>3</td>\n",
       "      <td>15738.00</td>\n",
       "      <td>1</td>\n",
       "      <td>6121</td>\n",
       "      <td>250</td>\n",
       "      <td>40171</td>\n",
       "    </tr>\n",
       "  </tbody>\n",
       "</table>\n",
       "<p>29718 rows × 6 columns</p>\n",
       "</div>"
      ],
      "text/plain": [
       "      CW     PCINC  JOB OCCUP  HGC     ID\n",
       "1      3  30631.60    1  1314  250      2\n",
       "3      4  43325.75    1  6111  830      4\n",
       "4      1  37481.80    1  5220  350      5\n",
       "7      3  14659.17    1  6111  350      8\n",
       "9      3  24732.33    1  6114  320     10\n",
       "...   ..       ...  ...   ...  ...    ...\n",
       "40166  3  30101.60    1  1314  350  40167\n",
       "40167  1  14368.89    1  8321  350  40168\n",
       "40168  3  19137.33    1  1314  230  40169\n",
       "40169  2  30985.00    1  1120  280  40170\n",
       "40170  3  15738.00    1  6121  250  40171\n",
       "\n",
       "[29718 rows x 6 columns]"
      ]
     },
     "execution_count": 15,
     "metadata": {},
     "output_type": "execute_result"
    }
   ],
   "source": [
    "#Just removing duplicates incase that their is.\n",
    "class_df.drop_duplicates()\n"
   ]
  },
  {
   "cell_type": "markdown",
   "metadata": {},
   "source": [
    "Splitting the data into 80% Training and 20% Testing for the classification problem."
   ]
  },
  {
   "cell_type": "code",
   "execution_count": 16,
   "metadata": {},
   "outputs": [],
   "source": [
    "X = class_df.drop(columns=[\"JOB\"])\n",
    "y = class_df[\"JOB\"]"
   ]
  },
  {
   "cell_type": "code",
   "execution_count": 17,
   "metadata": {},
   "outputs": [],
   "source": [
    "X_train, X_test, y_train, y_test = train_test_split(X, y, random_state=11, test_size=0.2)"
   ]
  },
  {
   "cell_type": "markdown",
   "metadata": {},
   "source": [
    "# EDA"
   ]
  },
  {
   "cell_type": "markdown",
   "metadata": {},
   "source": [
    "The Exploratory Data Analysis (EDA) section aims to understand the relationships between variables in the dataset, particularly how different features correlate with each other. This process helps identify patterns, dependencies, and potential issues such as multicollinearity, which can impact the performance of machine learning models."
   ]
  },
  {
   "cell_type": "markdown",
   "metadata": {},
   "source": [
    "The first part of the code calculates the correlation matrix. The printed correlation matrix provides an overview of how each variable is related to the others."
   ]
  },
  {
   "cell_type": "code",
   "execution_count": null,
   "metadata": {},
   "outputs": [
    {
     "name": "stdout",
     "output_type": "stream",
     "text": [
      "             CW     PCINC       JOB     OCCUP       HGC        ID\n",
      "CW     1.000000  0.005985  0.275911 -0.321101 -0.080280 -0.007818\n",
      "PCINC  0.005985  1.000000  0.112315 -0.108615  0.282812 -0.006224\n",
      "JOB    0.275911  0.112315  1.000000  0.395068 -0.019619 -0.017477\n",
      "OCCUP -0.321101 -0.108615  0.395068  1.000000 -0.136743 -0.016386\n",
      "HGC   -0.080280  0.282812 -0.019619 -0.136743  1.000000  0.013096\n",
      "ID    -0.007818 -0.006224 -0.017477 -0.016386  0.013096  1.000000\n"
     ]
    }
   ],
   "source": [
    "corr_matrix = class_df.corr()\n",
    "print(corr_matrix)"
   ]
  },
  {
   "cell_type": "markdown",
   "metadata": {},
   "source": [
    "To visualize these relationships, the heatmap is generated. The visual representation makes it easier to identify strong correlations between features."
   ]
  },
  {
   "cell_type": "code",
   "execution_count": 27,
   "metadata": {},
   "outputs": [
    {
     "data": {
      "image/png": "[encoded data removed]",
      "text/plain": [
       "<Figure size 1200x800 with 2 Axes>"
      ]
     },
     "metadata": {},
     "output_type": "display_data"
    }
   ],
   "source": [
    "# Plot heatmap\n",
    "plt.figure(figsize=(12, 8))\n",
    "sns.heatmap(corr_matrix, annot=True, cmap=\"coolwarm\", fmt=\".2f\", linewidths=0.5)\n",
    "plt.title(\"Correlation Matrix of FIES Features\")\n",
    "plt.show()"
   ]
  },
  {
   "cell_type": "markdown",
   "metadata": {},
   "source": [
    "The code processes the correlation matrix into a structured table format. The threshold for strong correlations is set at 0.1 for positive and -0.1 for negative. The filtered results are then sorted and displayed separately for positive and negative correlations."
   ]
  },
  {
   "cell_type": "code",
   "execution_count": 36,
   "metadata": {},
   "outputs": [
    {
     "name": "stdout",
     "output_type": "stream",
     "text": [
      "Strong Positive Correlations:\n",
      "   Feature 1 Feature 2  Correlation\n",
      "15       JOB     OCCUP     0.395068\n",
      "10     PCINC       HGC     0.282812\n",
      "2         CW       JOB     0.275911\n",
      "8      PCINC       JOB     0.112315\n",
      "\n",
      "Strong Negative Correlations:\n",
      "   Feature 1 Feature 2  Correlation\n",
      "3         CW     OCCUP    -0.321101\n",
      "22     OCCUP       HGC    -0.136743\n",
      "9      PCINC     OCCUP    -0.108615\n"
     ]
    }
   ],
   "source": [
    "# Define thresholds\n",
    "positive_threshold = 0.1\n",
    "negative_threshold = -0.1\n",
    "\n",
    "# Convert correlation matrix into long format\n",
    "corr_long = corr_matrix.stack().reset_index()\n",
    "corr_long.columns = [\"Feature 1\", \"Feature 2\", \"Correlation\"]\n",
    "\n",
    "# Remove self-correlations (Feature 1 == Feature 2)\n",
    "corr_long = corr_long[corr_long[\"Feature 1\"] != corr_long[\"Feature 2\"]]\n",
    "\n",
    "# Sort feature pairs alphabetically to remove duplicates\n",
    "corr_long[\"Sorted Pair\"] = corr_long.apply(lambda x: tuple(sorted([x[\"Feature 1\"], x[\"Feature 2\"]])), axis=1)\n",
    "\n",
    "# Drop duplicate pairs\n",
    "corr_long = corr_long.drop_duplicates(subset=[\"Sorted Pair\"]).drop(columns=[\"Sorted Pair\"])\n",
    "\n",
    "# Filter positive and negative correlations\n",
    "strong_positive = corr_long[corr_long[\"Correlation\"] >= positive_threshold]\n",
    "strong_negative = corr_long[corr_long[\"Correlation\"] <= negative_threshold]\n",
    "\n",
    "# Display tables\n",
    "print(\"Strong Positive Correlations:\")\n",
    "print(strong_positive.sort_values(by=\"Correlation\", ascending=False))\n",
    "\n",
    "print(\"\\nStrong Negative Correlations:\")\n",
    "print(strong_negative.sort_values(by=\"Correlation\"))\n"
   ]
  },
  {
   "cell_type": "markdown",
   "metadata": {},
   "source": [
    "# Initial Model Training"
   ]
  },
  {
   "cell_type": "markdown",
   "metadata": {},
   "source": [
    "In this section, we will train the model based on the tasks. Once again, here are the tasks to be done.\n",
    "1. Classify employment status based on education level and\n",
    "2. Predict food budget for different family sizes\n",
    "\n",
    "For these, we will divide into subsections for kNN Clustering, Linear Regression and Logistic Regression."
   ]
  },
  {
   "cell_type": "markdown",
   "metadata": {},
   "source": [
    "Let us print the shape of our data and our labels for our classification task."
   ]
  },
  {
   "cell_type": "code",
   "execution_count": null,
   "metadata": {},
   "outputs": [],
   "source": [
    "print('Training data shape: ', X_train.shape)\n",
    "print('Training labels shape: ', y_train.shape)\n",
    "print('Test data shape: ', X_test.shape)\n",
    "print('Test labels shape: ', y_test.shape)"
   ]
  },
  {
   "cell_type": "markdown",
   "metadata": {},
   "source": [
    "Here our training data has 23774 inputs while the 5 represents the amount of features we want to see. Along with that, we have 5944 test data, again with 5 features to be utilized."
   ]
  },
  {
   "cell_type": "code",
   "execution_count": null,
   "metadata": {},
   "outputs": [],
   "source": [
    "#just checking the desired label we want (has job or no job)\n",
    "print(pd.Series(y_train).unique())\n"
   ]
  },
  {
   "cell_type": "markdown",
   "metadata": {},
   "source": [
    "### k-Nearest Neighbors Algorithm"
   ]
  },
  {
   "cell_type": "markdown",
   "metadata": {},
   "source": [
    "The first of our models is the k-Nearest Neighbors Algorithm. As was discussed, the intuition behind kNN is to calculate the distance between data points given a hyperparameter k then predict. Considering we are enacting a classification task, the kNN will predict based on majority among k-neighbors. "
   ]
  },
  {
   "cell_type": "markdown",
   "metadata": {},
   "source": [
    "For now, let us show the data in our dataset highlighting the features and the associated label."
   ]
  },
  {
   "cell_type": "code",
   "execution_count": null,
   "metadata": {},
   "outputs": [],
   "source": [
    "print(\"Our data set:\")\n",
    "print(\"Features (X) \\t\\t Label (y)\")\n",
    "for i in range(len(y_train)):\n",
    "    print(str(X_train.iloc[i]) + \" \" + str(y_train.iloc[i]))"
   ]
  },
  {
   "cell_type": "markdown",
   "metadata": {},
   "source": [
    "Now, we will use `sklearn.neighbors.KNeighborsClassifier`. This will help trivialize our tasks moving forward in training the kNN model"
   ]
  },
  {
   "cell_type": "markdown",
   "metadata": {},
   "source": [
    "We import first KNeighborsClassifier class then instantiate it."
   ]
  },
  {
   "cell_type": "code",
   "execution_count": null,
   "metadata": {},
   "outputs": [],
   "source": [
    "from sklearn.neighbors import KNeighborsClassifier\n",
    "kNN_model = KNeighborsClassifier()"
   ]
  },
  {
   "cell_type": "markdown",
   "metadata": {},
   "source": [
    "Now we will fit the data into the model"
   ]
  },
  {
   "cell_type": "code",
   "execution_count": null,
   "metadata": {},
   "outputs": [],
   "source": [
    "kNN_model.fit(X_train, y_train)"
   ]
  },
  {
   "cell_type": "code",
   "execution_count": null,
   "metadata": {},
   "outputs": [],
   "source": [
    "kNN_model.predict(X_train)"
   ]
  },
  {
   "cell_type": "code",
   "execution_count": null,
   "metadata": {},
   "outputs": [],
   "source": [
    "neighbors = 5"
   ]
  },
  {
   "cell_type": "code",
   "execution_count": null,
   "metadata": {},
   "outputs": [],
   "source": [
    "distances, data_index = kNN_model.kneighbors(X_train)\n",
    "# distances = np.squeeze(distances)\n",
    "# data_index = np.squeeze(data_index)\n",
    "distances = distances[:, 1:]\n",
    "data_index = distances[:, 1:]\n",
    "# print(\"The \" + str(neighbors) + \" nearest neighbors:\")\n",
    "# for i in range(neighbors):\n",
    "#     print(i + 1, np.around(X_train[data_index[i]], 2), \"\\t dist: \"+ str(np.around(distances[i], 2)))\n",
    "print(distances)"
   ]
  },
  {
   "cell_type": "markdown",
   "metadata": {},
   "source": [
    "### Logistic Regression"
   ]
  },
  {
   "cell_type": "markdown",
   "metadata": {},
   "source": [
    "### Neural Network"
   ]
  },
  {
   "cell_type": "markdown",
   "metadata": {},
   "source": [
    "In this subsection, we will create a neural network model. Now, let us just first set the theoretical knowledge we are given. We have 5 we want to look at, therefore we have 5 input nodes. Then, we have a classification task. Considering that there is only an output of whether someone is predicted to have a job or not."
   ]
  },
  {
   "cell_type": "markdown",
   "metadata": {},
   "source": [
    "Now, to formally start, we will first import the necessary libraries for creating a neural network. The one we will use is torch."
   ]
  },
  {
   "cell_type": "code",
   "execution_count": null,
   "metadata": {},
   "outputs": [],
   "source": [
    "import torch.optim as optim\n",
    "import torch.nn as nn\n",
    "import numpy as np\n",
    "import torch"
   ]
  },
  {
   "cell_type": "markdown",
   "metadata": {},
   "source": [
    "Next, we will now convert our train and test data to torch tensor."
   ]
  },
  {
   "cell_type": "code",
   "execution_count": null,
   "metadata": {},
   "outputs": [],
   "source": [
    "\n",
    "X_train.dtypes\n",
    "X_train[[\"CW\", \"OCCUP\"]] = X_train[[\"CW\", \"OCCUP\"]].astype(int)\n",
    "X_train.shape\n",
    "\n",
    "X_test[[\"CW\", \"OCCUP\"]] = X_test[[\"CW\", \"OCCUP\"]].astype(int)\n",
    "\n",
    "\n",
    "\n",
    "# X_train_torch = torch.Tensor(X_train.values)\n",
    "# y_train_torch = torch.Tensor(y_train.values)\n",
    "# X_test_torch = torch.Tensor(X_test.values)\n",
    "# y_test_torch = torch.Tensor(y_test.values)\n",
    "X_train_torch = torch.tensor(X_train.values, dtype=torch.float32)\n",
    "y_train_torch = torch.tensor(y_train.values, dtype=torch.float32)\n",
    "X_test_torch = torch.tensor(X_test.values, dtype=torch.float32)\n",
    "y_test_torch = torch.tensor(y_test.values, dtype=torch.float32)"
   ]
  },
  {
   "cell_type": "markdown",
   "metadata": {},
   "source": [
    "We will use these converted data and feed it into our neural network. As for the neural network, we will set up the size of our network, then initiailize the weights, do forward propagation then get the classification predictions."
   ]
  },
  {
   "cell_type": "markdown",
   "metadata": {},
   "source": [
    "We have a neural_network.py file that will help us to do our neural network."
   ]
  },
  {
   "cell_type": "code",
   "execution_count": null,
   "metadata": {},
   "outputs": [],
   "source": [
    "from src.neural_network import NeuralNetwork"
   ]
  },
  {
   "cell_type": "markdown",
   "metadata": {},
   "source": [
    "Then we instantiate a NeuralNetwork object"
   ]
  },
  {
   "cell_type": "code",
   "execution_count": null,
   "metadata": {},
   "outputs": [],
   "source": [
    "network = NeuralNetwork(input_size=5, num_classes=2, list_hidden=[128, 64, 32], activation=\"sigmoid\")"
   ]
  },
  {
   "cell_type": "code",
   "execution_count": null,
   "metadata": {},
   "outputs": [],
   "source": [
    "network.create_network()"
   ]
  },
  {
   "cell_type": "markdown",
   "metadata": {},
   "source": [
    "We will now apply weights. "
   ]
  },
  {
   "cell_type": "code",
   "execution_count": null,
   "metadata": {},
   "outputs": [],
   "source": [
    "network.init_weights()\n",
    "print(network.layers[0].weight)"
   ]
  },
  {
   "cell_type": "markdown",
   "metadata": {},
   "source": [
    "Now let us see the bias term of the 1st layer in the network, that which has 128 neurons."
   ]
  },
  {
   "cell_type": "code",
   "execution_count": null,
   "metadata": {},
   "outputs": [],
   "source": [
    "print(network.layers[0].bias)"
   ]
  },
  {
   "cell_type": "markdown",
   "metadata": {},
   "source": [
    "This is just to check whether we will get the supposed number we have assigned in the instantiated NeuralNetwork class."
   ]
  },
  {
   "cell_type": "markdown",
   "metadata": {},
   "source": [
    "Next step is to do forward propagation. Here, forward propagation computes the output of each layer in the neural network. "
   ]
  },
  {
   "cell_type": "markdown",
   "metadata": {},
   "source": [
    "First let us get the scores and probabilities of our training data"
   ]
  },
  {
   "cell_type": "code",
   "execution_count": null,
   "metadata": {},
   "outputs": [],
   "source": [
    "scores, probabilities = network.forward(X_train_torch)\n"
   ]
  },
  {
   "cell_type": "code",
   "execution_count": null,
   "metadata": {},
   "outputs": [],
   "source": [
    "print(scores)"
   ]
  },
  {
   "cell_type": "code",
   "execution_count": null,
   "metadata": {},
   "outputs": [],
   "source": [
    "print(probabilities)"
   ]
  },
  {
   "cell_type": "markdown",
   "metadata": {},
   "source": [
    "Afterwards we will get the prediction."
   ]
  },
  {
   "cell_type": "code",
   "execution_count": null,
   "metadata": {},
   "outputs": [],
   "source": [
    "predictions = network.predict(probabilities)\n",
    "print(predictions)"
   ]
  },
  {
   "cell_type": "markdown",
   "metadata": {},
   "source": [
    "Lets try this on 10 random indices so we may view this in that manner instead of around 40 thousand instances."
   ]
  },
  {
   "cell_type": "markdown",
   "metadata": {},
   "source": [
    "Firstly, we get 10 random training instances."
   ]
  },
  {
   "cell_type": "code",
   "execution_count": 426,
   "metadata": {},
   "outputs": [
    {
     "name": "stdout",
     "output_type": "stream",
     "text": [
      "Random indices:  [17673  7293 17728  7291  9372 10201  4829 17904 10141 16241]\n"
     ]
    }
   ],
   "source": [
    "np.random.seed(10)\n",
    "random_indices = np.random.randint(X_train_torch.shape[0], size=10)\n",
    "print('Random indices: ', random_indices)"
   ]
  },
  {
   "cell_type": "markdown",
   "metadata": {},
   "source": [
    "Then we get the scores and probabilities."
   ]
  },
  {
   "cell_type": "code",
   "execution_count": 427,
   "metadata": {},
   "outputs": [],
   "source": [
    "# Write your code here\n",
    "X_rand = X_train_torch[random_indices]\n",
    "scores, probabilities = network.forward(X_rand)"
   ]
  },
  {
   "cell_type": "code",
   "execution_count": 428,
   "metadata": {},
   "outputs": [
    {
     "name": "stdout",
     "output_type": "stream",
     "text": [
      "tensor([[-0.5204,  0.1563],\n",
      "        [-0.5025,  0.1652],\n",
      "        [-0.5232,  0.1710],\n",
      "        [-0.5042,  0.1644],\n",
      "        [-0.5218,  0.1724],\n",
      "        [-0.5108,  0.1631],\n",
      "        [-0.5255,  0.1626],\n",
      "        [-0.5246,  0.1594],\n",
      "        [-0.5254,  0.1650],\n",
      "        [-0.5129,  0.1625]], grad_fn=<AddmmBackward0>)\n"
     ]
    }
   ],
   "source": [
    "print(scores)"
   ]
  },
  {
   "cell_type": "code",
   "execution_count": 429,
   "metadata": {},
   "outputs": [
    {
     "name": "stdout",
     "output_type": "stream",
     "text": [
      "tensor([[0.3370, 0.6630],\n",
      "        [0.3390, 0.6610],\n",
      "        [0.3331, 0.6669],\n",
      "        [0.3388, 0.6612],\n",
      "        [0.3331, 0.6669],\n",
      "        [0.3376, 0.6624],\n",
      "        [0.3344, 0.6656],\n",
      "        [0.3354, 0.6646],\n",
      "        [0.3339, 0.6661],\n",
      "        [0.3373, 0.6627]], grad_fn=<SoftmaxBackward0>)\n"
     ]
    }
   ],
   "source": [
    "print(probabilities)"
   ]
  },
  {
   "cell_type": "code",
   "execution_count": 430,
   "metadata": {},
   "outputs": [
    {
     "name": "stdout",
     "output_type": "stream",
     "text": [
      "tensor([1, 1, 1, 1, 1, 1, 1, 1, 1, 1])\n"
     ]
    }
   ],
   "source": [
    "predictions = network.predict(probabilities)\n",
    "print(predictions)"
   ]
  },
  {
   "cell_type": "markdown",
   "metadata": {},
   "source": [
    "#### Mini-Batch Gradient Descent \n",
    "<!-- I think this should be in improving model performance instead -->"
   ]
  },
  {
   "cell_type": "markdown",
   "metadata": {},
   "source": [
    "Considering the size of the dataset, we can use a mini-batch gradient descent in training the data. This ensures we have speed while also having stability."
   ]
  },
  {
   "cell_type": "markdown",
   "metadata": {},
   "source": [
    "# Error Analysis"
   ]
  },
  {
   "cell_type": "markdown",
   "metadata": {},
   "source": [
    "# Improving Model Performance"
   ]
  },
  {
   "cell_type": "markdown",
   "metadata": {},
   "source": [
    "# Insights and Conclusions"
   ]
  },
  {
   "cell_type": "markdown",
   "metadata": {},
   "source": [
    "# References"
   ]
  }
 ],
 "metadata": {
  "kernelspec": {
   "display_name": "base",
   "language": "python",
   "name": "python3"
  },
  "language_info": {
   "codemirror_mode": {
    "name": "ipython",
    "version": 3
   },
   "file_extension": ".py",
   "mimetype": "text/x-python",
   "name": "python",
   "nbconvert_exporter": "python",
   "pygments_lexer": "ipython3",
   "version": "3.12.7"
  }
 },
 "nbformat": 4,
 "nbformat_minor": 2
}
